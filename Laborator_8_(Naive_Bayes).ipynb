{
  "cells": [
    {
      "cell_type": "markdown",
      "metadata": {
        "id": "view-in-github",
        "colab_type": "text"
      },
      "source": [
        "<a href=\"https://colab.research.google.com/github/Chirobocea/Artificial-Intelligence/blob/main/Laborator_8_(Naive_Bayes).ipynb\" target=\"_parent\"><img src=\"https://colab.research.google.com/assets/colab-badge.svg\" alt=\"Open In Colab\"/></a>"
      ]
    },
    {
      "cell_type": "code",
      "execution_count": null,
      "metadata": {
        "id": "o_XpJRpOTAtf"
      },
      "outputs": [],
      "source": [
        "import os\n",
        "import numpy as np\n",
        "import matplotlib.pyplot as plt"
      ]
    },
    {
      "cell_type": "markdown",
      "metadata": {
        "id": "P__Db8icaB41"
      },
      "source": [
        "# Introducere sklearn"
      ]
    },
    {
      "cell_type": "code",
      "source": [
        "import sklearn"
      ],
      "metadata": {
        "id": "gYzr6rUe4u9g"
      },
      "execution_count": null,
      "outputs": []
    },
    {
      "cell_type": "markdown",
      "source": [
        "### Problema sexului persoanelor in functie de greutate si inaltime"
      ],
      "metadata": {
        "id": "DsHaqavk4x1n"
      }
    },
    {
      "cell_type": "code",
      "source": [
        "# Gaussian distribution of 50 values with mean 60\n",
        "greutati_femei = np.random.normal(loc=60, scale=10, size=50)\n",
        "greutati_femei"
      ],
      "metadata": {
        "colab": {
          "base_uri": "https://localhost:8080/"
        },
        "id": "tNMeoVIb6nRL",
        "outputId": "6f4498dd-0b02-4458-ae07-c0fe8c9c2556"
      },
      "execution_count": null,
      "outputs": [
        {
          "output_type": "execute_result",
          "data": {
            "text/plain": [
              "array([53.8672681 , 48.55435611, 49.29820702, 75.02228045, 66.95880671,\n",
              "       62.53409042, 73.54882654, 48.59489668, 67.56992425, 54.90184862,\n",
              "       49.96011776, 57.87202033, 41.40264799, 58.1935593 , 63.9129281 ,\n",
              "       81.37701136, 60.65444201, 60.13582369, 63.16565635, 74.95846879,\n",
              "       55.99162046, 66.97406044, 68.58158078, 56.09697942, 65.63610162,\n",
              "       57.2762699 , 56.96425085, 54.97074817, 50.26883889, 65.43205887,\n",
              "       66.31601157, 65.09370598, 64.15826978, 70.12130216, 49.33323969,\n",
              "       65.04559919, 39.40464808, 60.18297157, 47.68712437, 47.7637332 ,\n",
              "       82.34225151, 54.54542525, 72.30656232, 74.04010613, 61.32840495,\n",
              "       49.61407438, 59.59780223, 63.68986337, 69.34974744, 63.14643929])"
            ]
          },
          "metadata": {},
          "execution_count": 3
        }
      ]
    },
    {
      "cell_type": "code",
      "source": [
        "inaltime_femei = np.random.normal(loc=160, scale=20, size=50)"
      ],
      "metadata": {
        "id": "FMroQpiN7GnR"
      },
      "execution_count": null,
      "outputs": []
    },
    {
      "cell_type": "code",
      "source": [
        "greutati_barbati = np.random.normal(loc=80, scale=10, size=50)\n",
        "inaltime_barbati = np.random.normal(loc=175, scale=20, size=50)"
      ],
      "metadata": {
        "id": "voMfht2b7LN9"
      },
      "execution_count": null,
      "outputs": []
    },
    {
      "cell_type": "code",
      "source": [
        "import pandas as pd"
      ],
      "metadata": {
        "id": "zc2cjn5y6YQe"
      },
      "execution_count": null,
      "outputs": []
    },
    {
      "cell_type": "code",
      "source": [
        "pd.Series(greutati_femei).hist(bins=15, alpha=0.5, label=\"femei\")\n",
        "pd.Series(greutati_barbati).hist(bins=15, alpha=0.5, label=\"barbati\")\n",
        "plt.legend()  # show the labels"
      ],
      "metadata": {
        "colab": {
          "base_uri": "https://localhost:8080/",
          "height": 282
        },
        "id": "YNSdL0iN6d2j",
        "outputId": "2a06e1db-7a55-4490-f83e-ac7a69be22b1"
      },
      "execution_count": null,
      "outputs": [
        {
          "output_type": "execute_result",
          "data": {
            "text/plain": [
              "<matplotlib.legend.Legend at 0x7f026fe1ac50>"
            ]
          },
          "metadata": {},
          "execution_count": 7
        },
        {
          "output_type": "display_data",
          "data": {
            "text/plain": [
              "<Figure size 432x288 with 1 Axes>"
            ],
            "image/png": "[encoded data removed]"
          },
          "metadata": {
            "needs_background": "light"
          }
        }
      ]
    },
    {
      "cell_type": "code",
      "source": [
        "pd.Series(inaltime_femei).hist(bins=15, alpha=0.5, label=\"femei\")\n",
        "pd.Series(inaltime_barbati).hist(bins=15, alpha=0.5, label=\"barbati\")\n",
        "plt.legend()  # show the labels"
      ],
      "metadata": {
        "colab": {
          "base_uri": "https://localhost:8080/",
          "height": 282
        },
        "id": "ujsHUTQd7yCZ",
        "outputId": "47d260be-bb26-415c-c99c-70733d845450"
      },
      "execution_count": null,
      "outputs": [
        {
          "output_type": "execute_result",
          "data": {
            "text/plain": [
              "<matplotlib.legend.Legend at 0x7f026f2ea6d0>"
            ]
          },
          "metadata": {},
          "execution_count": 8
        },
        {
          "output_type": "display_data",
          "data": {
            "text/plain": [
              "<Figure size 432x288 with 1 Axes>"
            ],
            "image/png": "[encoded data removed]"
          },
          "metadata": {
            "needs_background": "light"
          }
        }
      ]
    },
    {
      "cell_type": "code",
      "source": [
        "nr_exemple_antrenare = 40\n",
        "nr_exemple_test = len(greutati_femei) - nr_exemple_antrenare\n",
        "print(\"Training data size per label: \", nr_exemple_antrenare, \n",
        "      \"; Test data size per label: \", nr_exemple_test)"
      ],
      "metadata": {
        "colab": {
          "base_uri": "https://localhost:8080/"
        },
        "id": "2OjyNTw-8ErG",
        "outputId": "d354c50a-a794-4fd3-b968-07a91dbf7c9a"
      },
      "execution_count": null,
      "outputs": [
        {
          "output_type": "stream",
          "name": "stdout",
          "text": [
            "Training data size per label:  40 ; Test data size per label:  10\n"
          ]
        }
      ]
    },
    {
      "cell_type": "code",
      "source": [
        "greutati_femei_antrenare = greutati_femei[:nr_exemple_antrenare]\n",
        "greutati_barbati_antrenare = greutati_barbati[:nr_exemple_antrenare]\n",
        "inaltime_femei_antrenare = inaltime_femei[:nr_exemple_antrenare]\n",
        "inaltime_barbati_antrenare = inaltime_barbati[:nr_exemple_antrenare]\n",
        "\n",
        "greutati_femei_test = greutati_femei[nr_exemple_antrenare:]\n",
        "greutati_barbati_test = greutati_barbati[nr_exemple_antrenare:]\n",
        "inaltime_femei_test = inaltime_femei[nr_exemple_antrenare:]\n",
        "inaltime_barbati_test = inaltime_barbati[nr_exemple_antrenare:]\n",
        "\n"
      ],
      "metadata": {
        "id": "dEPeNi5U8jST"
      },
      "execution_count": null,
      "outputs": []
    },
    {
      "cell_type": "code",
      "source": [
        "# femei = 1, barbati = 0\n",
        "labels_train = [1 for i in range(nr_exemple_antrenare)] + [0 for i in range(nr_exemple_antrenare)]\n",
        "\n",
        "labels_test = [1 for i in range(nr_exemple_test)] + [0 for i in range(nr_exemple_test)]"
      ],
      "metadata": {
        "id": "ijKIRT4I9QRh"
      },
      "execution_count": null,
      "outputs": []
    },
    {
      "cell_type": "code",
      "source": [
        "# Functia zip\n",
        "caracteristici_femei = list(zip(greutati_femei_antrenare, inaltime_femei_antrenare))\n",
        "print(caracteristici_femei)"
      ],
      "metadata": {
        "colab": {
          "base_uri": "https://localhost:8080/"
        },
        "id": "V9JhvmTZ9iw6",
        "outputId": "25935e48-4057-47ee-9974-a546b4203370"
      },
      "execution_count": null,
      "outputs": [
        {
          "output_type": "stream",
          "name": "stdout",
          "text": [
            "[(53.86726809513648, 164.1412725512289), (48.554356114591684, 170.47848679351958), (49.29820701523146, 125.28020268159561), (75.02228044582307, 158.97246690458306), (66.9588067140294, 153.64603743012617), (62.534090419907685, 181.93307862987646), (73.54882654023932, 165.90348864195926), (48.59489668394122, 175.50151606766198), (67.56992424836005, 186.8411363031018), (54.90184862147781, 141.1607136908318), (49.960117757615784, 176.19919462712855), (57.872020334635856, 176.98324833334237), (41.40264799124733, 154.8602792486328), (58.19355930349076, 167.1644553470424), (63.9129281036783, 189.98288866646416), (81.37701135581216, 183.94566755349268), (60.65444201432195, 193.29660568504502), (60.13582369260113, 183.86131708784816), (63.165656350133055, 145.80745240814448), (74.95846879034663, 177.78381045973515), (55.99162046227021, 164.95666997013723), (66.9740604400541, 140.74273572164776), (68.58158078423223, 152.7887400712305), (56.096979419815234, 174.02873460635578), (65.63610161595093, 138.3611662458314), (57.276269904676454, 214.8704871930643), (56.964250851277235, 125.82436658659061), (54.97074817231521, 138.96867837224252), (50.26883889217565, 170.4931483826396), (65.43205886973861, 171.36286220611385), (66.31601156818299, 136.21966888025847), (65.09370598348497, 160.52179198422246), (64.15826978106459, 194.293771164673), (70.12130215923958, 171.0647296689232), (49.33323968687242, 182.88846978341024), (65.04559918876164, 166.3975274570903), (39.40464807567665, 144.96968815262585), (60.18297157396893, 166.22281560778453), (47.6871243687021, 149.51942660349258), (47.7637332039848, 160.3571604360954)]\n"
          ]
        }
      ]
    },
    {
      "cell_type": "code",
      "source": [
        "plt.scatter(greutati_femei, inaltime_femei) # Obs: sunt independente? e realist?"
      ],
      "metadata": {
        "colab": {
          "base_uri": "https://localhost:8080/",
          "height": 282
        },
        "id": "NNQ36dKa-MX5",
        "outputId": "1b3da0b1-6b61-4f52-c622-3ca9d9c6325b"
      },
      "execution_count": null,
      "outputs": [
        {
          "output_type": "execute_result",
          "data": {
            "text/plain": [
              "<matplotlib.collections.PathCollection at 0x7f026ea70550>"
            ]
          },
          "metadata": {},
          "execution_count": 13
        },
        {
          "output_type": "display_data",
          "data": {
            "text/plain": [
              "<Figure size 432x288 with 1 Axes>"
            ],
            "image/png": "[encoded data removed]"
          },
          "metadata": {
            "needs_background": "light"
          }
        }
      ]
    },
    {
      "cell_type": "code",
      "source": [
        "X_train = np.array(list(zip(greutati_femei_antrenare, inaltime_femei_antrenare)) +\n",
        "                   list(zip(greutati_barbati_antrenare, inaltime_barbati_antrenare)))"
      ],
      "metadata": {
        "id": "jQ_m6tLp9FUY"
      },
      "execution_count": null,
      "outputs": []
    },
    {
      "cell_type": "code",
      "source": [
        "print(X_train[:3])"
      ],
      "metadata": {
        "colab": {
          "base_uri": "https://localhost:8080/"
        },
        "id": "CQCxVstN-heV",
        "outputId": "be3a958e-df31-473b-cca6-d191a96b8e0c"
      },
      "execution_count": null,
      "outputs": [
        {
          "output_type": "stream",
          "name": "stdout",
          "text": [
            "[[ 53.8672681  164.14127255]\n",
            " [ 48.55435611 170.47848679]\n",
            " [ 49.29820702 125.28020268]]\n"
          ]
        }
      ]
    },
    {
      "cell_type": "code",
      "source": [
        "y_train = np.array(labels_train)\n",
        "\n",
        "X_test = np.array(list(zip(greutati_femei_test, inaltime_femei_test)) +\n",
        "                   list(zip(greutati_barbati_test, inaltime_barbati_test)))\n",
        "y_test = np.array(labels_test)"
      ],
      "metadata": {
        "id": "MXeto8J8-oFk"
      },
      "execution_count": null,
      "outputs": []
    },
    {
      "cell_type": "code",
      "source": [
        "print(X_train.shape, y_train.shape, X_test.shape, y_test.shape)"
      ],
      "metadata": {
        "colab": {
          "base_uri": "https://localhost:8080/"
        },
        "id": "IMc5rRdm-38G",
        "outputId": "bdfceab8-5bd5-45cd-f873-f76130b36044"
      },
      "execution_count": null,
      "outputs": [
        {
          "output_type": "stream",
          "name": "stdout",
          "text": [
            "(80, 2) (80,) (20, 2) (20,)\n"
          ]
        }
      ]
    },
    {
      "cell_type": "code",
      "source": [
        "from sklearn.naive_bayes import GaussianNB, MultinomialNB"
      ],
      "metadata": {
        "id": "ZC6L90Gp78Cn"
      },
      "execution_count": null,
      "outputs": []
    },
    {
      "cell_type": "code",
      "source": [
        "GaussianNB??"
      ],
      "metadata": {
        "id": "0JrTZls-BBbm"
      },
      "execution_count": null,
      "outputs": []
    },
    {
      "cell_type": "code",
      "source": [
        "model = GaussianNB()"
      ],
      "metadata": {
        "id": "mm3-TLmI8O20"
      },
      "execution_count": null,
      "outputs": []
    },
    {
      "cell_type": "markdown",
      "source": [
        "Functia `fit`: antrenarea modelului"
      ],
      "metadata": {
        "id": "HFSuV6Ab_Cbb"
      }
    },
    {
      "cell_type": "code",
      "source": [
        "model = model.fit(X_train, y_train)"
      ],
      "metadata": {
        "id": "q6xbecEEAzdi"
      },
      "execution_count": null,
      "outputs": []
    },
    {
      "cell_type": "code",
      "source": [
        "predicted_labels = model.predict(X_test)"
      ],
      "metadata": {
        "id": "1PJCEFNU_Ozp"
      },
      "execution_count": null,
      "outputs": []
    },
    {
      "cell_type": "code",
      "source": [
        "# What does this compute?\n",
        "print(np.mean(predicted_labels == labels_test))"
      ],
      "metadata": {
        "colab": {
          "base_uri": "https://localhost:8080/"
        },
        "id": "kIWAF7Xo_cg6",
        "outputId": "458d648c-75fd-421d-f6c7-d58e9a056d23"
      },
      "execution_count": null,
      "outputs": [
        {
          "output_type": "stream",
          "name": "stdout",
          "text": [
            "0.75\n"
          ]
        }
      ]
    },
    {
      "cell_type": "code",
      "source": [
        "model.predict_proba(X_test)"
      ],
      "metadata": {
        "colab": {
          "base_uri": "https://localhost:8080/"
        },
        "id": "Ys8bHz8-D3zn",
        "outputId": "ef942292-9f0d-4559-a53f-b4b2691610d9"
      },
      "execution_count": null,
      "outputs": [
        {
          "output_type": "execute_result",
          "data": {
            "text/plain": [
              "array([[0.93519058, 0.06480942],\n",
              "       [0.07670437, 0.92329563],\n",
              "       [0.56470697, 0.43529303],\n",
              "       [0.67464251, 0.32535749],\n",
              "       [0.27110822, 0.72889178],\n",
              "       [0.02515773, 0.97484227],\n",
              "       [0.1043304 , 0.8956696 ],\n",
              "       [0.2294864 , 0.7705136 ],\n",
              "       [0.4741669 , 0.5258331 ],\n",
              "       [0.18705027, 0.81294973],\n",
              "       [0.97116274, 0.02883726],\n",
              "       [0.98574382, 0.01425618],\n",
              "       [0.30294473, 0.69705527],\n",
              "       [0.9946389 , 0.0053611 ],\n",
              "       [0.56520797, 0.43479203],\n",
              "       [0.24384784, 0.75615216],\n",
              "       [0.74548238, 0.25451762],\n",
              "       [0.91835752, 0.08164248],\n",
              "       [0.57147723, 0.42852277],\n",
              "       [0.99385618, 0.00614382]])"
            ]
          },
          "metadata": {},
          "execution_count": 23
        }
      ]
    },
    {
      "cell_type": "code",
      "source": [
        "np.argmax(\n",
        "    model.predict_proba(X_test),\n",
        "    axis=1)"
      ],
      "metadata": {
        "colab": {
          "base_uri": "https://localhost:8080/"
        },
        "id": "e0ixYa9iEJT_",
        "outputId": "10001485-4cee-4f29-9b15-f10ec84e5b02"
      },
      "execution_count": null,
      "outputs": [
        {
          "output_type": "execute_result",
          "data": {
            "text/plain": [
              "array([0, 1, 0, 0, 1, 1, 1, 1, 1, 1, 0, 0, 1, 0, 0, 1, 0, 0, 0, 0])"
            ]
          },
          "metadata": {},
          "execution_count": 24
        }
      ]
    },
    {
      "cell_type": "code",
      "source": [
        "predicted_labels"
      ],
      "metadata": {
        "colab": {
          "base_uri": "https://localhost:8080/"
        },
        "id": "XOIp8OPYFJ_U",
        "outputId": "e3bad35f-619c-4c4c-b810-0cca21808abf"
      },
      "execution_count": null,
      "outputs": [
        {
          "output_type": "execute_result",
          "data": {
            "text/plain": [
              "array([0, 1, 0, 0, 1, 1, 1, 1, 1, 1, 0, 0, 1, 0, 0, 1, 0, 0, 0, 0])"
            ]
          },
          "metadata": {},
          "execution_count": 25
        }
      ]
    },
    {
      "cell_type": "markdown",
      "source": [
        "Performance metrics with sklearn"
      ],
      "metadata": {
        "id": "9qfmZtOH_mIj"
      }
    },
    {
      "cell_type": "code",
      "source": [
        "from sklearn.metrics import precision_score, recall_score, f1_score, accuracy_score, classification_report"
      ],
      "metadata": {
        "id": "GqJs25pK_lkX"
      },
      "execution_count": null,
      "outputs": []
    },
    {
      "cell_type": "code",
      "source": [
        "print(accuracy_score(labels_test, predicted_labels))"
      ],
      "metadata": {
        "colab": {
          "base_uri": "https://localhost:8080/"
        },
        "id": "XotY9hj__uFw",
        "outputId": "541044f0-36a8-4585-be24-d45f78806f99"
      },
      "execution_count": null,
      "outputs": [
        {
          "output_type": "stream",
          "name": "stdout",
          "text": [
            "0.75\n"
          ]
        }
      ]
    },
    {
      "cell_type": "code",
      "source": [
        "# What does this measure? (1=femeie) If I predicted a woman, what is the chance I was right?\n",
        "print(precision_score(labels_test, predicted_labels))"
      ],
      "metadata": {
        "colab": {
          "base_uri": "https://localhost:8080/"
        },
        "id": "u-4eqL1k_yxR",
        "outputId": "5b251322-189d-42b4-c04f-479b3407896f"
      },
      "execution_count": null,
      "outputs": [
        {
          "output_type": "stream",
          "name": "stdout",
          "text": [
            "0.7777777777777778\n"
          ]
        }
      ]
    },
    {
      "cell_type": "code",
      "source": [
        "# From all women, how many did I get correctly?\n",
        "print(recall_score(labels_test, predicted_labels))"
      ],
      "metadata": {
        "colab": {
          "base_uri": "https://localhost:8080/"
        },
        "id": "jaRJ9g6___0g",
        "outputId": "c590b457-4bd1-4f35-91cc-7dd02c4e8a59"
      },
      "execution_count": null,
      "outputs": [
        {
          "output_type": "stream",
          "name": "stdout",
          "text": [
            "0.7\n"
          ]
        }
      ]
    },
    {
      "cell_type": "code",
      "source": [
        "print(classification_report(labels_test, predicted_labels, target_names=['barbati', 'femei']))"
      ],
      "metadata": {
        "colab": {
          "base_uri": "https://localhost:8080/"
        },
        "id": "Qm4Ld9AJAGSi",
        "outputId": "b43fcaf3-b1e8-49b3-fafb-1996723785d0"
      },
      "execution_count": null,
      "outputs": [
        {
          "output_type": "stream",
          "name": "stdout",
          "text": [
            "              precision    recall  f1-score   support\n",
            "\n",
            "     barbati       0.73      0.80      0.76        10\n",
            "       femei       0.78      0.70      0.74        10\n",
            "\n",
            "    accuracy                           0.75        20\n",
            "   macro avg       0.75      0.75      0.75        20\n",
            "weighted avg       0.75      0.75      0.75        20\n",
            "\n"
          ]
        }
      ]
    },
    {
      "cell_type": "markdown",
      "metadata": {
        "id": "N9o3ZAEraG0e"
      },
      "source": [
        "# Descarcare / citire date imagini"
      ]
    },
    {
      "cell_type": "code",
      "execution_count": null,
      "metadata": {
        "colab": {
          "base_uri": "https://localhost:8080/"
        },
        "id": "_fikIu38y2Pr",
        "outputId": "ed5aba7f-0792-43bc-caad-4d448d8b6127"
      },
      "outputs": [
        {
          "output_type": "stream",
          "name": "stdout",
          "text": [
            "--2022-04-05 03:25:02--  https://github.com/artificial-intelligence-ml-cti/ml_cti/raw/main/laborator3/data.zip\n",
            "Resolving github.com (github.com)... 140.82.112.3\n",
            "Connecting to github.com (github.com)|140.82.112.3|:443... connected.\n",
            "HTTP request sent, awaiting response... 302 Found\n",
            "Location: https://raw.githubusercontent.com/artificial-intelligence-ml-cti/ml_cti/main/laborator3/data.zip [following]\n",
            "--2022-04-05 03:25:03--  https://raw.githubusercontent.com/artificial-intelligence-ml-cti/ml_cti/main/laborator3/data.zip\n",
            "Resolving raw.githubusercontent.com (raw.githubusercontent.com)... 185.199.108.133, 185.199.109.133, 185.199.110.133, ...\n",
            "Connecting to raw.githubusercontent.com (raw.githubusercontent.com)|185.199.108.133|:443... connected.\n",
            "HTTP request sent, awaiting response... 200 OK\n",
            "Length: 629644 (615K) [application/zip]\n",
            "Saving to: ‘data.zip’\n",
            "\n",
            "data.zip            100%[===================>] 614.89K  --.-KB/s    in 0.03s   \n",
            "\n",
            "2022-04-05 03:25:03 (22.2 MB/s) - ‘data.zip’ saved [629644/629644]\n",
            "\n",
            "Archive:  data.zip\n",
            "  inflating: data/test_images.txt    \n",
            "  inflating: data/test_labels.txt    \n",
            "  inflating: data/train_images.txt   \n",
            "  inflating: data/train_labels.txt   \n",
            "***\\n Fisierele sunt: \n",
            "test_images.txt  test_labels.txt  train_images.txt  train_labels.txt\n",
            "****\\n Calea catre directorul cu date este: \n",
            "/content/data\n"
          ]
        }
      ],
      "source": [
        "! rm -rf data*\n",
        "! wget https://github.com/artificial-intelligence-ml-cti/ml_cti/raw/main/laborator3/data.zip\n",
        "! unzip \"data.zip\"\n",
        "\n",
        "! echo \"***\\n Fisierele sunt: \"\n",
        "! ls data/\n",
        "! echo \"****\\n Calea catre directorul cu date este: \"\n",
        "! readlink -f data/\n"
      ]
    },
    {
      "cell_type": "markdown",
      "metadata": {
        "id": "RLVbkkLUaMNp"
      },
      "source": [
        "Director date"
      ]
    },
    {
      "cell_type": "code",
      "execution_count": null,
      "metadata": {
        "id": "_I16vNNHaLH4"
      },
      "outputs": [],
      "source": [
        "data_path = \"/content/data\""
      ]
    },
    {
      "cell_type": "markdown",
      "metadata": {
        "id": "a3fTgW5naUFc"
      },
      "source": [
        "Citire date si etichete train"
      ]
    },
    {
      "cell_type": "code",
      "execution_count": null,
      "metadata": {
        "id": "e9LXisWcU0Vr"
      },
      "outputs": [],
      "source": [
        "# variabile pentru calea catre fisier\n",
        "train_path = os.path.join(data_path, \"train_images.txt\")\n",
        "tr_labels_path = os.path.join(data_path, \"train_labels.txt\")\n",
        "test_path = os.path.join(data_path, \"test_images.txt\")\n",
        "ts_labels_path = os.path.join(data_path, \"test_labels.txt\")\n",
        "\n",
        "# variabile cu fisierele incarcate\n",
        "train_images = np.loadtxt(train_path, 'uint8')\n",
        "train_labels = np.loadtxt(tr_labels_path, 'int8')\n",
        "test_images = np.loadtxt(test_path, 'uint8')\n",
        "test_labels = np.loadtxt(ts_labels_path, 'int8')"
      ]
    },
    {
      "cell_type": "code",
      "execution_count": null,
      "metadata": {
        "colab": {
          "base_uri": "https://localhost:8080/",
          "height": 283
        },
        "id": "-ClRHlP9VBNh",
        "outputId": "383b7145-6e86-42f2-d7de-9019b9b6bfe3"
      },
      "outputs": [
        {
          "output_type": "stream",
          "name": "stdout",
          "text": [
            "4\n"
          ]
        },
        {
          "output_type": "display_data",
          "data": {
            "text/plain": [
              "<Figure size 432x288 with 1 Axes>"
            ],
            "image/png": "[encoded data removed]"
          },
          "metadata": {
            "needs_background": "light"
          }
        }
      ],
      "source": [
        "image = train_images[0,:]\n",
        "print(train_labels[0])\n",
        "image = np.reshape(image,(28,28))\n",
        "plt.imshow(image,cmap = \"gray\")\n",
        "plt.show()"
      ]
    },
    {
      "cell_type": "markdown",
      "metadata": {
        "id": "956iK0qVabd4"
      },
      "source": [
        "# Probabilitatile apriori\n",
        "Calculul probabilitatilor apriori $P(c=i)$, `i = 0,...,9` din datele de antrenare. Pentru fiecare clasă probabilitatea este dată de o distribuție discretă - numărul de apariții ale acelei clase din numărul total de clase."
      ]
    },
    {
      "cell_type": "code",
      "source": [
        "# functia bincount ne poate spune de cate ori apare fiecare valoare intr-un vector\n",
        "np.bincount??"
      ],
      "metadata": {
        "id": "VoRawRbVwZvq"
      },
      "execution_count": null,
      "outputs": []
    },
    {
      "cell_type": "code",
      "execution_count": null,
      "metadata": {
        "colab": {
          "base_uri": "https://localhost:8080/"
        },
        "id": "4QeN0osOVPKo",
        "outputId": "34076551-98a2-485e-9cb8-6d65a05b3c2d"
      },
      "outputs": [
        {
          "output_type": "stream",
          "name": "stdout",
          "text": [
            "[4 8 2 7 9 4 2 1 4 5 6 3 1 1 3 0 6 6 7 3 4 4 1 2 2 6 7 4 0 0 5 4 9 0 2 3 2\n",
            " 7 7 9 1 9 1 6 8 7 3 5 9 3 3 7 0 1 3 2 9 8 9 3 2 9 3 5 8 3 6 6 6 3 1 1 6 7\n",
            " 7 2 9 1 1 0 9 1 5 2 9 9 0 0 9 4 6 2 6 8 5 5 4 6 0 7 6 5 7 4 6 6 3 5 2 4 7\n",
            " 4 1 0 2 8 8 3 8 1 7 3 0 9 0 3 9 4 6 2 1 8 8 6 5 9 2 7 6 5 2 0 1 7 4 3 5 5\n",
            " 0 2 3 7 6 4 7 4 1 9 9 7 4 9 1 1 2 8 1 9 7 3 1 6 4 0 3 7 0 4 7 5 1 4 1 3 4\n",
            " 2 0 3 6 2 2 5 9 4 1 1 6 9 8 7 6 8 4 2 1 7 9 5 1 2 8 4 9 9 4 7 1 2 8 2 7 5\n",
            " 1 7 5 2 0 3 9 7 0 2 0 7 6 5 9 0 9 7 4 5 9 9 0 4 9 0 7 6 2 5 9 5 2 0 9 7 0\n",
            " 1 1 6 8 9 9 0 8 4 9 2 2 9 3 8 8 1 6 2 2 0 3 1 8 0 5 3 7 0 9 0 3 1 5 7 9 2\n",
            " 0 1 6 9 7 7 6 5 8 6 6 5 4 3 8 8 4 7 8 0 3 6 8 8 0 2 0 8 2 5 3 8 5 6 1 5 0\n",
            " 0 8 0 1 8 9 4 1 6 8 8 3 2 7 8 4 1 8 9 4 6 6 7 4 3 3 4 1 9 3 3 5 6 6 0 3 7\n",
            " 9 6 8 7 2 6 9 8 0 8 5 8 3 0 7 9 3 8 0 8 7 4 9 4 9 2 9 0 7 1 0 3 9 1 7 2 7\n",
            " 9 6 1 2 0 2 1 7 7 7 1 9 5 1 7 7 4 3 1 1 3 6 9 4 2 2 9 7 7 4 1 3 7 8 2 7 6\n",
            " 9 6 0 6 2 6 6 2 1 2 8 4 1 4 6 6 3 0 2 8 9 8 0 3 9 6 2 5 2 6 9 1 8 5 7 0 4\n",
            " 8 0 6 4 7 3 5 3 6 9 1 8 0 7 2 4 6 0 8 2 7 5 2 4 4 9 5 1 0 1 8 4 1 7 3 4 0\n",
            " 2 2 5 4 1 9 7 4 4 4 6 3 8 0 7 1 6 8 2 8 4 6 4 7 2 1 0 9 4 2 7 6 5 1 0 5 7\n",
            " 3 9 7 5 5 7 4 4 2 1 6 6 0 9 0 2 9 4 0 8 8 2 7 9 1 9 1 8 4 7 5 4 3 5 1 8 7\n",
            " 2 3 1 6 6 8 9 5 7 3 8 7 7 8 4 9 2 1 9 0 3 3 3 5 8 4 9 3 3 3 8 1 8 8 2 1 4\n",
            " 7 4 1 3 1 3 4 2 7 3 5 0 3 4 0 5 0 6 9 9 7 4 7 7 1 8 9 9 8 5 2 0 7 1 3 1 9\n",
            " 3 1 7 4 2 7 8 5 7 6 4 0 4 8 6 2 4 9 0 5 3 4 9 0 7 8 3 8 9 6 3 8 9 5 9 6 1\n",
            " 2 8 4 2 4 1 6 6 9 6 2 8 0 5 1 6 5 8 6 2 6 6 9 3 5 0 5 3 8 0 3 6 2 1 1 8 3\n",
            " 4 3 8 1 4 4 9 7 1 3 1 9 6 6 6 2 9 1 4 2 0 3 3 1 8 7 9 4 8 1 8 7 2 5 7 7 1\n",
            " 3 3 6 5 2 5 7 8 4 6 9 5 0 3 4 4 8 7 8 8 3 9 9 0 5 3 2 2 5 0 1 6 3 7 8 2 1\n",
            " 1 5 2 8 1 5 8 1 1 4 8 0 5 5 0 8 5 3 8 5 1 0 1 5 1 0 2 4 2 9 9 3 1 6 9 4 9\n",
            " 5 5 3 3 1 9 8 7 8 1 1 5 5 1 4 2 5 7 7 4 2 6 4 9 0 4 1 8 3 0 0 0 8 4 5 4 3\n",
            " 4 1 3 6 1 2 4 2 4 9 5 0 8 1 3 1 9 1 5 6 1 7 1 4 2 4 1 0 8 6 1 0 6 5 1 2 2\n",
            " 5 8 1 4 6 2 8 0 6 1 3 1 7 6 9 4 6 3 0 6 7 6 2 1 3 1 6 3 9 5 2 3 7 5 7 8 5\n",
            " 4 0 6 4 4 2 7 1 9 3 0 3 0 1 8 1 4 7 8 0 8 9 6 3 2 5 6 4 3 4 3 1 7 7 6 7 7\n",
            " 9]\n",
            "[ 91. 120.  96.  99. 105.  83.  98. 104. 101. 103.]\n",
            "[0.091 0.12  0.096 0.099 0.105 0.083 0.098 0.104 0.101 0.103]\n"
          ]
        },
        {
          "output_type": "execute_result",
          "data": {
            "text/plain": [
              "array([0.091, 0.12 , 0.096, 0.099, 0.105, 0.083, 0.098, 0.104, 0.101,\n",
              "       0.103])"
            ]
          },
          "metadata": {},
          "execution_count": 6
        }
      ],
      "source": [
        "print(train_labels)\n",
        "p_C = np.zeros(10)\n",
        "for label in train_labels:\n",
        "  p_C[label] += 1\n",
        "print(p_C)\n",
        "p_C = p_C / np.sum(p_C)\n",
        "print(p_C)\n",
        "\n",
        "np.bincount(train_labels) / np.sum(np.bincount(train_labels))"
      ]
    },
    {
      "cell_type": "markdown",
      "metadata": {
        "id": "9UCq5JcxE1_c"
      },
      "source": [
        "# Histograma\n",
        "Cum sa facem o histograma (adica o numarare) in functie de niste intervale date.\n",
        "1. Facem intervalele `[0, 64, 128]`, in cazul binarizarii (thresholding) sunt 2 `[0-64)` si `[64 - 128)`; putem incerca si cu 4 `[0,  64), [64, 128), [128, 192), [192, 256)`\n",
        "2. Apelam `np.histogram(numere, intervale)` care va numara cate numere sunt in fiecare interval"
      ]
    },
    {
      "cell_type": "code",
      "execution_count": null,
      "metadata": {
        "colab": {
          "base_uri": "https://localhost:8080/"
        },
        "id": "SNEgfA--VZZF",
        "outputId": "307f8eda-b2b6-4f2c-bce0-8ebfc2d254aa"
      },
      "outputs": [
        {
          "output_type": "stream",
          "name": "stdout",
          "text": [
            "[  0.  64. 128. 192. 256.]\n",
            "[0, 64, 128, 192, 256]\n",
            "[4 3 1 3]\n",
            "[0.36363636 0.27272727 0.09090909 0.27272727]\n"
          ]
        }
      ],
      "source": [
        "date_exemplu = np.array([0, 63, 63, 64, 65, 128, 255, 15, 254, 89, 192])\n",
        "numar_intervale = 4\n",
        "# linspace e o functie din numpy, in cazul in care ne e lene sa le facem de mana\n",
        "limite_interval = np.linspace(0, 256, numar_intervale + 1)\n",
        "print(limite_interval)\n",
        "\n",
        "# de mana:\n",
        "limite_interval = [0, 64, 128, 192, 256]\n",
        "print(limite_interval)\n",
        "\n",
        "histograma, _ = np.histogram(date_exemplu, limite_interval)\n",
        "print(histograma)\n",
        "\n",
        "print(histograma / np.sum(histograma))"
      ]
    },
    {
      "cell_type": "code",
      "execution_count": null,
      "metadata": {
        "colab": {
          "base_uri": "https://localhost:8080/"
        },
        "id": "19lSfiu-_THF",
        "outputId": "6fddb03d-3e83-4c33-9b00-eaa9ac83f3ba"
      },
      "outputs": [
        {
          "output_type": "stream",
          "name": "stdout",
          "text": [
            "[1000    0    0    0]\n"
          ]
        }
      ],
      "source": [
        "# histograma pentru pixelii de pe pozitia 0 din toate imaginile\n",
        "# incercati si alte pozitii ale pixelilor\n",
        "histograma, _ = np.histogram(train_images[:, 0], limite_interval)\n",
        "print(histograma)"
      ]
    },
    {
      "cell_type": "markdown",
      "metadata": {
        "id": "XYGlRXp9apeO"
      },
      "source": [
        "# Exemplu de calcul pentru probabilitatea valorii unui pixel constrans de o clasa data\n",
        "Calculul $P(X_j = x_j | c=i)$ pentru clasa `i = 4`, pixelul `j = 370`"
      ]
    },
    {
      "cell_type": "code",
      "execution_count": null,
      "metadata": {
        "colab": {
          "base_uri": "https://localhost:8080/"
        },
        "id": "Z0HbLFGBVi25",
        "outputId": "fc5ae741-c7cf-4e4b-bc11-6cc3a4a69474"
      },
      "outputs": [
        {
          "output_type": "stream",
          "name": "stdout",
          "text": [
            "[  0   5   8  20  21  27  31  89  96 103 109 111 127 144 153 155 160 172\n",
            " 177 181 184 193 202 211 214 240 245 267 308 312 339 348 352 356 359 391\n",
            " 393 423 430 436 455 457 480 484 496 504 505 512 516 521 525 526 527 538\n",
            " 540 546 561 562 572 583 586 606 617 628 630 635 642 650 669 676 678 682\n",
            " 687 705 707 740 744 745 758 767 785 791 792 823 841 849 865 870 873 876\n",
            " 884 886 888 894 896 911 913 928 940 962 965 966 978 989 991]\n"
          ]
        }
      ],
      "source": [
        "# reprezinta cifra\n",
        "clasa = 4\n",
        "pozitie_pixel = 370\n",
        "#probabilitatea ca valoare_pixel = 78 daca pozitia lui este 370 si clasa este cifra 4?\n",
        "\n",
        "# facem select pentru clasa care ne intereseaza\n",
        "indecsii_coresp_clasei = np.where( train_labels == clasa )[0]\n",
        "print(indecsii_coresp_clasei)\n",
        "\n",
        "imaginile_coresp_clasei = train_images[indecsii_coresp_clasei, :]"
      ]
    },
    {
      "cell_type": "code",
      "execution_count": null,
      "metadata": {
        "colab": {
          "base_uri": "https://localhost:8080/"
        },
        "id": "48DUnHxqAD3s",
        "outputId": "92fae87c-d6d6-41aa-a8f4-f1d5353cb5c9"
      },
      "outputs": [
        {
          "output_type": "stream",
          "name": "stdout",
          "text": [
            "[253   0 252   0 252 253   0  72 253   0   0  86  82 254 251   0 254   0\n",
            " 252   0   0   0   0   0 166   0   0  91 246   0   0   0   0 252 108 253\n",
            " 161 254   0   0 253   0   0   0   0   0   0   0   0  38   0 253 254 237\n",
            "   0   0   0 128  21   0   0   0 253   0 187   0   0 145   0   0   0   0\n",
            " 246   0   0 254   0   0   0  70   0   0   0 193 253 140 145   7   0  77\n",
            "   0   0   0   0   0   0  66   4 254   0   0   0   0   0   0]\n"
          ]
        }
      ],
      "source": [
        "# la o prima vedere, valorile astea nu spun nimic\n",
        "print(imaginile_coresp_clasei[:, pozitie_pixel])\n",
        "# dar incercati sa schimbati clasa sa vedeti ce valori au \n",
        "# piexlii de aceeasi pozitie in functie de clasa\n",
        "# ochiometric observati cam in ce intervale se gasesc"
      ]
    },
    {
      "cell_type": "code",
      "execution_count": null,
      "metadata": {
        "colab": {
          "base_uri": "https://localhost:8080/"
        },
        "id": "DxG_qZlYAu6b",
        "outputId": "0d2e1e44-cd19-427c-edb7-ee88b506cc49"
      },
      "outputs": [
        {
          "output_type": "stream",
          "name": "stdout",
          "text": [
            "[0, 64, 128, 192, 256]\n",
            "[67  8  7 23]\n",
            "[0.63809524 0.07619048 0.06666667 0.21904762]\n"
          ]
        }
      ],
      "source": [
        "limite_interval = [0, 64, 128, 192, 256]\n",
        "print(limite_interval)\n",
        "histograma, _ = np.histogram(imaginile_coresp_clasei[:, pozitie_pixel], limite_interval)\n",
        "print(histograma)\n",
        "\n",
        "probabilitati_pe_interval = histograma / np.sum(histograma)\n",
        "\n",
        "print(probabilitati_pe_interval)\n",
        "\n"
      ]
    },
    {
      "cell_type": "code",
      "execution_count": null,
      "metadata": {
        "id": "4Mq6KX9tVrDE"
      },
      "outputs": [],
      "source": [
        "# probabilitatea ca pixelul de pe pozitia 370 sa aiba valoarea 78, constrans de clasa 4 \n",
        "# este valoarea din probabilitati_pe_interval coresp intervalului unde se gaseste 78 adica [64-128)\n",
        "#\n"
      ]
    },
    {
      "cell_type": "code",
      "source": [
        "# daca avem mai multe intervale si o valoare, np.digitize ne poate spune\n",
        "# in care dintre intervale se incadreaza valoarea (ne da indicele intervalului)\n",
        "np.digitize??"
      ],
      "metadata": {
        "id": "8XJIpoN9TFhi"
      },
      "execution_count": null,
      "outputs": []
    },
    {
      "cell_type": "code",
      "execution_count": null,
      "metadata": {
        "colab": {
          "base_uri": "https://localhost:8080/"
        },
        "id": "3jHViqvR7kT5",
        "outputId": "2c84e0b0-a818-4718-dec0-d9a49d16d869"
      },
      "outputs": [
        {
          "output_type": "stream",
          "name": "stdout",
          "text": [
            "0\n",
            "1\n",
            "2\n",
            "3\n"
          ]
        }
      ],
      "source": [
        "# ca sa obtinem indicele intervalului, scadem 1\n",
        "print(np.digitize(-100, [0, 64, 128]))\n",
        "\n",
        "print(np.digitize(5, [0, 64, 128]))\n",
        "\n",
        "print(np.digitize(78, [0, 64, 128]))\n",
        "\n",
        "print(np.digitize(200, [0, 64, 128]))\n"
      ]
    },
    {
      "cell_type": "code",
      "execution_count": null,
      "metadata": {
        "colab": {
          "base_uri": "https://localhost:8080/"
        },
        "id": "dch-JocDCd8k",
        "outputId": "fc63a581-9f58-4ea7-ee1c-9a86436c4f64"
      },
      "outputs": [
        {
          "output_type": "stream",
          "name": "stdout",
          "text": [
            "[0.63809524 0.07619048 0.06666667 0.21904762]\n",
            "Pixel value  78  pozitie pixel  370\n"
          ]
        },
        {
          "output_type": "execute_result",
          "data": {
            "text/plain": [
              "0.0761904761904762"
            ]
          },
          "metadata": {},
          "execution_count": 315
        }
      ],
      "source": [
        "def probab_pixel(o_valoare_pixel, pozitie_pixel, clasa, train_images, train_labels):\n",
        "  indecsii_coresp_clasei = np.where( train_labels == clasa )[0]\n",
        "  imaginile_coresp_clasei = train_images[indecsii_coresp_clasei, :]\n",
        "  valorile_pixelilor = imaginile_coresp_clasei[:, pozitie_pixel]\n",
        "  limite_interval = [0, 64, 128, 192, 256]\n",
        "  histograma, _ = np.histogram(valorile_pixelilor, limite_interval)\n",
        "  probabilitati = histograma / histograma.sum()\n",
        "  # P(o_valoare_pixel sa se afle in valorile_pixelilor)\n",
        "  print(probabilitati)\n",
        "  print(\"Pixel value \", o_valoare_pixel, ' pozitie pixel ', pozitie_pixel)\n",
        "  indice_interval = np.digitize(o_valoare_pixel, limite_interval) - 1\n",
        "  return probabilitati[indice_interval]\n",
        "\n",
        "\n",
        "probab_pixel(78, 370, 4, train_images, train_labels)"
      ]
    },
    {
      "cell_type": "code",
      "execution_count": null,
      "metadata": {
        "colab": {
          "base_uri": "https://localhost:8080/"
        },
        "id": "Cr6ofLA19HiK",
        "outputId": "8ca387db-fda3-463f-f188-fa4ec7245440"
      },
      "outputs": [
        {
          "output_type": "stream",
          "name": "stdout",
          "text": [
            "0.6380952480952381\n"
          ]
        }
      ],
      "source": [
        "# facem o matrice M care sa se comporte \n",
        "# ca un cache cu valorile probabilitatilor pre-caculate\n",
        "# dimensiuni: nr_de_clase x nr_de_pixeli x nr_de_intervale\n",
        "limite_interval = [0, 64, 128, 192, 256]\n",
        "\n",
        "nr_de_clase = len(np.unique(train_labels))\n",
        "nr_de_pixeli = train_images.shape[1]\n",
        "nr_de_intervale = len(limite_interval) - 1\n",
        "\n",
        "M = np.zeros((nr_de_clase, nr_de_pixeli, nr_de_intervale))\n",
        "\n",
        "for clasa in range(0, nr_de_clase):\n",
        "  indecsii_coresp_clasei = np.where( train_labels == clasa )[0]\n",
        "  imaginile_coresp_clasei = train_images[indecsii_coresp_clasei, :]\n",
        "  for pixel_idx in range(0, nr_de_pixeli):\n",
        "    valorile_pixelilor = imaginile_coresp_clasei[:, pixel_idx]\n",
        "    histograma, _ = np.histogram(valorile_pixelilor, limite_interval)\n",
        "    probabilitati = histograma / histograma.sum()\n",
        "    #for indice_interval in range(0, nr_de_intervale):\n",
        "    #  M[clasa, pixel_idx, indice_interval] = probabilitati[indice_interval]\n",
        "    # sau:\n",
        "    M[clasa, pixel_idx, :] = probabilitati\n",
        "M += 0.00000001\n",
        "print(M[4, 370, 0])\n",
        "\n"
      ]
    },
    {
      "cell_type": "code",
      "execution_count": null,
      "metadata": {
        "colab": {
          "base_uri": "https://localhost:8080/",
          "height": 265
        },
        "id": "Rxq7cEfzC6nM",
        "outputId": "9008c10b-eae7-41e8-b211-0cc0c5b3b364"
      },
      "outputs": [
        {
          "output_type": "display_data",
          "data": {
            "text/plain": [
              "<Figure size 432x288 with 1 Axes>"
            ],
            "image/png": "[encoded data removed]"
          },
          "metadata": {
            "needs_background": "light"
          }
        }
      ],
      "source": [
        "test = test_images[5, :]\n",
        "#test = test_images[0, :]\n",
        "\n",
        "image = np.reshape(test, (28,28))\n",
        "plt.imshow(image,cmap = \"gray\")\n",
        "plt.show()"
      ]
    },
    {
      "cell_type": "code",
      "execution_count": null,
      "metadata": {
        "colab": {
          "base_uri": "https://localhost:8080/"
        },
        "id": "jWcqO8UvDFDx",
        "outputId": "0d86de79-4dfa-41ec-9a89-569c701bb5f8"
      },
      "outputs": [
        {
          "output_type": "stream",
          "name": "stdout",
          "text": [
            "[0. 0. 0. 0. 0. 0. 0. 0. 0. 0.]\n",
            "[-614.21812332 -582.22431681 -326.0999887  -407.19675803 -544.64343929\n",
            " -505.74389058 -356.95526329 -784.27373352 -431.54591293 -607.10486949]\n",
            "Clasa cu scorul cel mai bun este:  2\n"
          ]
        }
      ],
      "source": [
        "# clasa cu scorul cel mai mare castiga (este predictia)\n",
        "# pe fiecare pozitie de la 0 la 9, salvam scorul corespunzator clasei\n",
        "scoruri = np.zeros(nr_de_clase)\n",
        "print(scoruri)\n",
        "\n",
        "for clasa in range(0, nr_de_clase):\n",
        "  sumele_pe_pixeli = 0\n",
        "  for pixel_idx in range(0, nr_de_pixeli):\n",
        "    # calculam probabilitatea lui P(test[pixel_idx] | clasa)\n",
        "    indice_interval = np.digitize(test[pixel_idx], limite_interval) - 1\n",
        "    sumele_pe_pixeli += np.log(M[clasa, pixel_idx, indice_interval])\n",
        "  scoruri[clasa] = sumele_pe_pixeli + np.log(p_C[clasa])\n",
        "\n",
        "print(scoruri)\n",
        "print('Clasa cu scorul cel mai bun este: ', scoruri.argmax())"
      ]
    },
    {
      "cell_type": "code",
      "execution_count": null,
      "metadata": {
        "id": "UbXOgsSjFioG"
      },
      "outputs": [],
      "source": [
        "def predict(test):\n",
        "  scoruri = np.zeros(nr_de_clase)\n",
        "  for clasa in range(0, nr_de_clase):\n",
        "    sumele_pe_pixeli = 0\n",
        "    for pixel_idx in range(0, nr_de_pixeli):\n",
        "      # calculam probabilitatea lui P(test[pixel_idx] | clasa)\n",
        "      indice_interval = np.digitize(test[pixel_idx], limite_interval) - 1\n",
        "      sumele_pe_pixeli += np.log(M[clasa, pixel_idx, indice_interval])\n",
        "    scoruri[clasa] = sumele_pe_pixeli + np.log(p_C[clasa])\n",
        "  return scoruri.argmax()"
      ]
    },
    {
      "cell_type": "code",
      "execution_count": null,
      "metadata": {
        "id": "kcV2sHB0FvJ8"
      },
      "outputs": [],
      "source": [
        "def predict_multi(imagini_test):\n",
        "  predictii = np.zeros(imagini_test.shape[0])\n",
        "  for idx in range(0, imagini_test.shape[0]):\n",
        "    predictii[idx] = predict(imagini_test[idx, :])\n",
        "  return predictii"
      ]
    },
    {
      "cell_type": "code",
      "execution_count": null,
      "metadata": {
        "colab": {
          "base_uri": "https://localhost:8080/"
        },
        "id": "xwimvZdpFjH3",
        "outputId": "0960b71d-0564-44b8-81ba-81d67fd916c5"
      },
      "outputs": [
        {
          "output_type": "stream",
          "name": "stdout",
          "text": [
            "[2. 7. 3. 1. 2. 2. 0. 8. 1. 4. 7. 3. 2. 0. 8. 3. 8. 9. 9. 1. 8. 2. 0. 0.\n",
            " 5. 9. 6. 2. 6. 7. 3. 2. 4. 9. 6. 6. 1. 7. 5. 3. 0. 1. 8. 8. 2. 1. 3. 7.\n",
            " 9. 6. 7. 6. 7. 7. 9. 7. 3. 1. 2. 1. 7. 8. 0. 9. 8. 3. 1. 6. 0. 5. 8. 5.\n",
            " 6. 3. 2. 4. 2. 0. 9. 1. 4. 4. 3. 3. 1. 4. 0. 5. 7. 9. 0. 5. 2. 3. 4. 4.\n",
            " 4. 9. 5. 0. 0. 6. 8. 4. 6. 0. 7. 0. 8. 8. 7. 8. 3. 0. 8. 9. 5. 3. 5. 7.\n",
            " 3. 9. 9. 4. 8. 9. 3. 0. 6. 1. 0. 9. 2. 6. 6. 3. 7. 0. 2. 8. 7. 0. 4. 2.\n",
            " 1. 3. 6. 5. 5. 3. 9. 3. 0. 0. 3. 6. 3. 2. 0. 1. 6. 4. 3. 2. 4. 2. 4. 4.\n",
            " 7. 8. 5. 3. 7. 4. 2. 8. 0. 0. 0. 3. 1. 6. 6. 2. 5. 2. 9. 2. 4. 3. 5. 2.\n",
            " 7. 0. 0. 3. 7. 8. 6. 7. 8. 9. 0. 5. 3. 2. 8. 2. 4. 7. 8. 9. 4. 4. 8. 0.\n",
            " 7. 6. 3. 9. 2. 5. 6. 0. 1. 4. 6. 0. 2. 5. 9. 5. 8. 4. 1. 4. 6. 3. 6. 9.\n",
            " 4. 9. 3. 2. 4. 3. 3. 8. 3. 8. 8. 4. 1. 0. 4. 8. 8. 9. 3. 4. 4. 5. 4. 0.\n",
            " 1. 7. 7. 4. 5. 0. 1. 3. 7. 8. 6. 7. 2. 1. 2. 8. 9. 6. 8. 4. 6. 9. 0. 5.\n",
            " 3. 3. 5. 6. 6. 5. 5. 2. 4. 6. 6. 1. 1. 7. 0. 8. 5. 3. 2. 1. 2. 0. 8. 5.\n",
            " 0. 1. 1. 6. 9. 3. 4. 2. 7. 0. 8. 8. 4. 1. 9. 2. 4. 2. 0. 8. 6. 1. 3. 9.\n",
            " 4. 0. 6. 4. 6. 7. 1. 3. 1. 3. 2. 5. 5. 3. 2. 9. 1. 6. 6. 8. 4. 4. 1. 3.\n",
            " 9. 0. 5. 4. 5. 4. 1. 5. 1. 2. 4. 2. 6. 2. 2. 3. 4. 4. 4. 1. 3. 7. 6. 5.\n",
            " 7. 9. 3. 0. 8. 4. 9. 4. 9. 6. 2. 2. 1. 5. 6. 6. 7. 9. 7. 3. 5. 8. 8. 1.\n",
            " 3. 5. 5. 6. 5. 9. 0. 0. 9. 2. 2. 9. 2. 7. 3. 9. 7. 2. 0. 9. 7. 0. 3. 1.\n",
            " 7. 8. 4. 2. 2. 7. 3. 3. 2. 9. 3. 2. 3. 0. 9. 9. 4. 3. 4. 5. 1. 1. 2. 2.\n",
            " 4. 9. 6. 6. 0. 1. 2. 1. 6. 1. 9. 6. 1. 1. 4. 3. 1. 1. 6. 8. 7. 8. 5. 1.\n",
            " 9. 8. 6. 7. 3. 3. 0. 6. 0. 3. 5. 1. 3. 7. 9. 3. 3. 8. 6. 5.]\n"
          ]
        }
      ],
      "source": [
        "preds = predict_multi(test_images)\n",
        "print(preds)"
      ]
    },
    {
      "cell_type": "code",
      "execution_count": null,
      "metadata": {
        "colab": {
          "base_uri": "https://localhost:8080/"
        },
        "id": "KQwJQnpjGPFE",
        "outputId": "31936875-49e5-4ad9-afda-0d52b661b316"
      },
      "outputs": [
        {
          "output_type": "stream",
          "name": "stdout",
          "text": [
            "81.8\n"
          ]
        }
      ],
      "source": [
        "acc = np.mean((preds == test_labels).astype(int)) * 100\n",
        "print(acc)"
      ]
    }
  ],
  "metadata": {
    "colab": {
      "collapsed_sections": [],
      "name": "Copy of Laborator_8 (Naive Bayes).ipynb",
      "provenance": [],
      "include_colab_link": true
    },
    "kernelspec": {
      "display_name": "Python 3",
      "language": "python",
      "name": "python3"
    },
    "language_info": {
      "codemirror_mode": {
        "name": "ipython",
        "version": 3
      },
      "file_extension": ".py",
      "mimetype": "text/x-python",
      "name": "python",
      "nbconvert_exporter": "python",
      "pygments_lexer": "ipython3",
      "version": "3.7.10"
    },
    "toc": {
      "base_numbering": 1,
      "nav_menu": {},
      "number_sections": true,
      "sideBar": true,
      "skip_h1_title": false,
      "title_cell": "Table of Contents",
      "title_sidebar": "Contents",
      "toc_cell": false,
      "toc_position": {},
      "toc_section_display": true,
      "toc_window_display": false
    }
  },
  "nbformat": 4,
  "nbformat_minor": 0
}