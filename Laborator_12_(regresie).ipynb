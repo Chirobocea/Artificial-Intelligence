{
  "nbformat": 4,
  "nbformat_minor": 0,
  "metadata": {
    "colab": {
      "name": "Copy of Laborator 12 (regresie).ipynb",
      "provenance": [],
      "collapsed_sections": [],
      "include_colab_link": true
    },
    "kernelspec": {
      "name": "python3",
      "display_name": "Python 3"
    },
    "language_info": {
      "name": "python"
    }
  },
  "cells": [
    {
      "cell_type": "markdown",
      "metadata": {
        "id": "view-in-github",
        "colab_type": "text"
      },
      "source": [
        "<a href=\"https://colab.research.google.com/github/Chirobocea/Artificial-Intelligence/blob/main/Laborator_12_(regresie).ipynb\" target=\"_parent\"><img src=\"https://colab.research.google.com/assets/colab-badge.svg\" alt=\"Open In Colab\"/></a>"
      ]
    },
    {
      "cell_type": "markdown",
      "source": [
        "### Implementari regresie"
      ],
      "metadata": {
        "id": "nLCkXpukWnIk"
      }
    },
    {
      "cell_type": "markdown",
      "source": [
        "In scikit-learn avem implementate modele pentru regresie liniara, inclusiv pentru regresia cu regularizare:\n",
        "\n",
        "- regresia Ridge: regularizare cu norma L2 a vectorului de ponderi https://scikit-learn.org/stable/modules/generated/sklearn.linear_model.Ridge.html\n",
        "\n",
        "\n",
        "- regresia Lasso: regularizare cu norma L1 a vectorului de ponderi https://scikit-learn.org/stable/modules/generated/sklearn.linear_model.Lasso.html\n",
        "\n",
        "Parametrul `alpha` este ponderea termenului de regularizare (in curs notat cu `lambda`)\n"
      ],
      "metadata": {
        "id": "nw0BLMDtUyS5"
      }
    },
    {
      "cell_type": "code",
      "execution_count": null,
      "metadata": {
        "id": "Ynf0mCoUUuO7"
      },
      "outputs": [],
      "source": [
        "from sklearn.linear_model import LinearRegression, Ridge, Lasso\n",
        "# definirea modelelor\n",
        "linear_regression_model = LinearRegression()\n",
        "ridge_regression_model = Ridge(alpha=1)\n",
        "lasso_regression_model = Lasso(alpha=1)\n"
      ]
    },
    {
      "cell_type": "markdown",
      "source": [
        "### Date\n",
        "\n",
        "predictia preturilor de masini\n",
        "\n",
        "n = 4879 exemple de antrenare."
      ],
      "metadata": {
        "id": "u-4kLbnmWbDZ"
      }
    },
    {
      "cell_type": "code",
      "source": [
        "!wget https://fmi-unibuc-ia.github.io/ia/Data/data_lab6.zip\n",
        "!unzip data_lab6.zip"
      ],
      "metadata": {
        "colab": {
          "base_uri": "https://localhost:8080/"
        },
        "id": "XGPO8R7CU6t-",
        "outputId": "a77640f0-0772-4707-9f03-1d46226c5981"
      },
      "execution_count": null,
      "outputs": [
        {
          "output_type": "stream",
          "name": "stdout",
          "text": [
            "--2022-05-10 11:09:07--  https://fmi-unibuc-ia.github.io/ia/Data/data_lab6.zip\n",
            "Resolving fmi-unibuc-ia.github.io (fmi-unibuc-ia.github.io)... 185.199.109.153, 185.199.111.153, 185.199.110.153, ...\n",
            "Connecting to fmi-unibuc-ia.github.io (fmi-unibuc-ia.github.io)|185.199.109.153|:443... connected.\n",
            "HTTP request sent, awaiting response... 200 OK\n",
            "Length: 55791 (54K) [application/zip]\n",
            "Saving to: ‘data_lab6.zip’\n",
            "\n",
            "\rdata_lab6.zip         0%[                    ]       0  --.-KB/s               \rdata_lab6.zip       100%[===================>]  54.48K  --.-KB/s    in 0.01s   \n",
            "\n",
            "2022-05-10 11:09:07 (5.07 MB/s) - ‘data_lab6.zip’ saved [55791/55791]\n",
            "\n",
            "Archive:  data_lab6.zip\n",
            "  inflating: data/prices.npy         \n",
            "  inflating: data/training_data.npy  \n"
          ]
        }
      ]
    },
    {
      "cell_type": "code",
      "source": [
        "import numpy as np\n",
        "from sklearn.utils import shuffle\n",
        "# load training data\n",
        "data = np.load('data/training_data.npy')\n",
        "prices = np.load('data/prices.npy')\n",
        "# print the first 4 samples"
      ],
      "metadata": {
        "id": "zyQSAEzYU_mB"
      },
      "execution_count": null,
      "outputs": []
    },
    {
      "cell_type": "markdown",
      "source": [
        "Caracteristici:\n",
        "1. anul fabricației\n",
        "2. numărul de kilometri\n",
        "3. mileage (avg)\n",
        "4. motor\n",
        "5. putere\n",
        "6. numărul de locuri\n",
        "7. numărul de proprietari (valori între 1 și 4)\n",
        "8-12. tipul de combustibil - fiind 5 tipuri de combustibil, acesta a fost recodat\n",
        "într-un one-hot vector de 5 componente.\n",
        "13-14. tipul de transmisie - fiind 2 tipuri de transmisie, acesta a fost recodat\n",
        "într-un one-hot vector de 2 componente. 10 - „Manual”; 01 - ”Automatic”."
      ],
      "metadata": {
        "id": "alMLPrgbWzog"
      }
    },
    {
      "cell_type": "code",
      "source": [
        "print('The first 4 samples are:\\n ', data[:4])\n",
        "print('The first 4 prices are:\\n ', prices[:4])\n",
        "# shuffle\n",
        "data, prices = shuffle(data, prices, random_state=0)"
      ],
      "metadata": {
        "colab": {
          "base_uri": "https://localhost:8080/"
        },
        "id": "qArsOG9bVCkB",
        "outputId": "f20f4200-3e2b-479a-e46d-300fa2e2a8ac"
      },
      "execution_count": null,
      "outputs": [
        {
          "output_type": "stream",
          "name": "stdout",
          "text": [
            "The first 4 samples are:\n",
            "  [[2.0150e+03 4.1000e+04 1.9670e+01 1.5820e+03 1.2620e+02 5.0000e+00\n",
            "  1.0000e+00 0.0000e+00 1.0000e+00 0.0000e+00 0.0000e+00 0.0000e+00\n",
            "  1.0000e+00 0.0000e+00]\n",
            " [2.0110e+03 4.6000e+04 1.8200e+01 1.1990e+03 8.8700e+01 5.0000e+00\n",
            "  1.0000e+00 0.0000e+00 0.0000e+00 1.0000e+00 0.0000e+00 0.0000e+00\n",
            "  1.0000e+00 0.0000e+00]\n",
            " [2.0120e+03 8.7000e+04 2.0770e+01 1.2480e+03 8.8760e+01 7.0000e+00\n",
            "  1.0000e+00 0.0000e+00 1.0000e+00 0.0000e+00 0.0000e+00 0.0000e+00\n",
            "  1.0000e+00 0.0000e+00]\n",
            " [2.0130e+03 8.6999e+04 2.3080e+01 1.4610e+03 6.3100e+01 5.0000e+00\n",
            "  1.0000e+00 0.0000e+00 1.0000e+00 0.0000e+00 0.0000e+00 0.0000e+00\n",
            "  1.0000e+00 0.0000e+00]]\n",
            "The first 4 prices are:\n",
            "  [12.5  4.5  6.   3.5]\n"
          ]
        }
      ]
    },
    {
      "cell_type": "markdown",
      "source": [
        "### Vizualizarea datelor"
      ],
      "metadata": {
        "id": "6taJgbPUaFkA"
      }
    },
    {
      "cell_type": "code",
      "source": [
        "from matplotlib import pyplot as plt"
      ],
      "metadata": {
        "id": "91dUm2aEafWu"
      },
      "execution_count": null,
      "outputs": []
    },
    {
      "cell_type": "code",
      "source": [
        "plt.scatter(data[:,0], prices) # anul fabricatiei vs pret "
      ],
      "metadata": {
        "colab": {
          "base_uri": "https://localhost:8080/",
          "height": 282
        },
        "id": "Ur067-LiaXxd",
        "outputId": "978a3483-58d4-4fa7-91b3-2514d683d27d"
      },
      "execution_count": null,
      "outputs": [
        {
          "output_type": "execute_result",
          "data": {
            "text/plain": [
              "<matplotlib.collections.PathCollection at 0x7fcc7cfc2310>"
            ]
          },
          "metadata": {},
          "execution_count": 6
        },
        {
          "output_type": "display_data",
          "data": {
            "text/plain": [
              "<Figure size 432x288 with 1 Axes>"
            ],
            "image/png": "[encoded data removed]"
          },
          "metadata": {
            "needs_background": "light"
          }
        }
      ]
    },
    {
      "cell_type": "code",
      "source": [
        "plt.scatter(data[:,1], prices) # numarul de kilometri vs pret "
      ],
      "metadata": {
        "colab": {
          "base_uri": "https://localhost:8080/",
          "height": 282
        },
        "id": "01YERn9_aHaY",
        "outputId": "6c256fdf-2e34-466d-9fb6-507ef69732c2"
      },
      "execution_count": null,
      "outputs": [
        {
          "output_type": "execute_result",
          "data": {
            "text/plain": [
              "<matplotlib.collections.PathCollection at 0x7fcc7cfc20d0>"
            ]
          },
          "metadata": {},
          "execution_count": 7
        },
        {
          "output_type": "display_data",
          "data": {
            "text/plain": [
              "<Figure size 432x288 with 1 Axes>"
            ],
            "image/png": "[encoded data removed]"
          },
          "metadata": {
            "needs_background": "light"
          }
        }
      ]
    },
    {
      "cell_type": "markdown",
      "source": [
        "### Normalizarea caracteristiclor"
      ],
      "metadata": {
        "id": "Y8CZ3bgxbgeB"
      }
    },
    {
      "cell_type": "code",
      "source": [
        "print(data.mean(axis=0))\n",
        "print(data.std(axis=0))"
      ],
      "metadata": {
        "colab": {
          "base_uri": "https://localhost:8080/"
        },
        "id": "Y5drjEd4ctGa",
        "outputId": "85438625-4c00-4032-c147-7faaaa82e54d"
      },
      "execution_count": null,
      "outputs": [
        {
          "output_type": "stream",
          "name": "stdout",
          "text": [
            "[2.0131943e+03 5.9280344e+04 1.8832146e+01 1.4802327e+03 9.7857353e+01\n",
            " 5.2693176e+00 1.2076246e+00 0.0000000e+00 4.7673702e-01 5.2326298e-01\n",
            " 0.0000000e+00 0.0000000e+00 8.2496411e-01 1.7503586e-01]\n",
            "[3.2371438e+00 3.9374203e+04 4.0842896e+00 4.6790396e+02 3.5455849e+01\n",
            " 7.6322055e-01 4.6183684e-01 0.0000000e+00 4.9946213e-01 4.9946213e-01\n",
            " 0.0000000e+00 0.0000000e+00 3.7999901e-01 3.7999901e-01]\n"
          ]
        }
      ]
    },
    {
      "cell_type": "code",
      "source": [
        "from sklearn.preprocessing import StandardScaler\n",
        "scaler = StandardScaler(with_mean=True, with_std=True) \n",
        "data_scaled = scaler.fit_transform(data[:,2:5]) # standardizam caracteristicile continue"
      ],
      "metadata": {
        "id": "tFikQS1_a0Kb"
      },
      "execution_count": null,
      "outputs": []
    },
    {
      "cell_type": "code",
      "source": [
        "StandardScaler??"
      ],
      "metadata": {
        "id": "GFoGohG-clNn"
      },
      "execution_count": null,
      "outputs": []
    },
    {
      "cell_type": "code",
      "source": [
        "print(data_scaled.mean(axis=0)) # almost zero\n",
        "print(data_scaled.std(axis=0)) # almost one"
      ],
      "metadata": {
        "colab": {
          "base_uri": "https://localhost:8080/"
        },
        "id": "8Fm-7wvFbBD6",
        "outputId": "373b6285-d998-4e73-86ba-6c5deb2a4844"
      },
      "execution_count": null,
      "outputs": [
        {
          "output_type": "stream",
          "name": "stdout",
          "text": [
            "[-1.1223974e-08  2.5502853e-08  1.0455857e-08]\n",
            "[0.99999964 1.000003   0.9999978 ]\n"
          ]
        }
      ]
    },
    {
      "cell_type": "code",
      "source": [
        "# Normalizare min-max pentru caracteristicile discrete\n",
        "# obtinem valori intre 0 si 1"
      ],
      "metadata": {
        "id": "1A92uFlheRnz"
      },
      "execution_count": null,
      "outputs": []
    },
    {
      "cell_type": "code",
      "source": [
        "def normalize_min_max(x):\n",
        "  scale = max(x) - min(x)\n",
        "  x = (x - min(x)) / scale\n",
        "  return x\n"
      ],
      "metadata": {
        "id": "M7gHcx5eeUa6"
      },
      "execution_count": null,
      "outputs": []
    },
    {
      "cell_type": "code",
      "source": [
        "normalize_min_max(data[:,0])"
      ],
      "metadata": {
        "colab": {
          "base_uri": "https://localhost:8080/"
        },
        "id": "LMDrPE0deiJU",
        "outputId": "4b73ad42-cb5e-42d4-e8f9-4ce4c26b155d"
      },
      "execution_count": null,
      "outputs": [
        {
          "output_type": "execute_result",
          "data": {
            "text/plain": [
              "array([0.9047619 , 0.8095238 , 0.95238096, ..., 0.47619048, 0.71428573,\n",
              "       0.71428573], dtype=float32)"
            ]
          },
          "metadata": {},
          "execution_count": 62
        }
      ]
    },
    {
      "cell_type": "markdown",
      "source": [
        "### Calculul erorii / performantei\n",
        "\n",
        "- Mean squared error\n",
        "\n",
        "https://scikit-learn.org/stable/modules/generated/sklearn.metrics.mean_squared_error.html\n",
        "\n",
        "- Mean absolute error\n",
        "\n",
        "https://scikit-learn.org/stable/modules/generated/sklearn.metrics.mean_absolute_error.html"
      ],
      "metadata": {
        "id": "y3M8ZPBdXP7W"
      }
    },
    {
      "cell_type": "code",
      "source": [
        "# calcularea valorii MSE și MAE\n",
        "from sklearn.metrics import mean_squared_error, mean_absolute_error\n",
        "\n",
        "# Exemplu apeluri:\n",
        "# mse_value = mean_squared_error(y_true, y_pred)\n",
        "# mae_value = mean_absolute_error(y_true, y_pred)"
      ],
      "metadata": {
        "id": "r_Y-Ga3iU0bT"
      },
      "execution_count": null,
      "outputs": []
    },
    {
      "cell_type": "code",
      "source": [
        ""
      ],
      "metadata": {
        "id": "NHrkT_sWU3Wa"
      },
      "execution_count": null,
      "outputs": []
    },
    {
      "cell_type": "markdown",
      "source": [
        "# Exercitii (1p)"
      ],
      "metadata": {
        "id": "ZqavkeXeXUY4"
      }
    },
    {
      "cell_type": "markdown",
      "source": [
        "1. Pentru fiecare dintre caracteristicile: \n",
        "\n",
        "- mileage\n",
        "- motor\n",
        "- putere\n",
        "- numărul de locuri\n",
        "\n",
        "afisati un plot care are caracteristica pe axa Ox si pretul pe axa Oy. Ce fel de relatii exista intre caracteristici si etichete?"
      ],
      "metadata": {
        "id": "3Qo6WbdwXWwm"
      }
    },
    {
      "cell_type": "code",
      "source": [
        "from matplotlib import pyplot as plt"
      ],
      "metadata": {
        "id": "_RON6YVaXWO3"
      },
      "execution_count": null,
      "outputs": []
    },
    {
      "cell_type": "code",
      "source": [
        "plt.scatter(data[:,2], prices) "
      ],
      "metadata": {
        "colab": {
          "base_uri": "https://localhost:8080/",
          "height": 282
        },
        "id": "yTKR8FWZtkQ6",
        "outputId": "0a7ec5fc-964d-4b8c-aabb-d5eaba670a30"
      },
      "execution_count": null,
      "outputs": [
        {
          "output_type": "execute_result",
          "data": {
            "text/plain": [
              "<matplotlib.collections.PathCollection at 0x7fcc74a7ff50>"
            ]
          },
          "metadata": {},
          "execution_count": 14
        },
        {
          "output_type": "display_data",
          "data": {
            "text/plain": [
              "<Figure size 432x288 with 1 Axes>"
            ],
            "image/png": "[encoded data removed]"
          },
          "metadata": {
            "needs_background": "light"
          }
        }
      ]
    },
    {
      "cell_type": "code",
      "source": [
        "plt.scatter(data[:,3], prices) "
      ],
      "metadata": {
        "colab": {
          "base_uri": "https://localhost:8080/",
          "height": 282
        },
        "id": "TSmnZDgYttPo",
        "outputId": "9272af60-4e9d-48ca-e129-35ca8fd94a41"
      },
      "execution_count": null,
      "outputs": [
        {
          "output_type": "execute_result",
          "data": {
            "text/plain": [
              "<matplotlib.collections.PathCollection at 0x7fcc74a7fe50>"
            ]
          },
          "metadata": {},
          "execution_count": 15
        },
        {
          "output_type": "display_data",
          "data": {
            "text/plain": [
              "<Figure size 432x288 with 1 Axes>"
            ],
            "image/png": "[encoded data removed]"
          },
          "metadata": {
            "needs_background": "light"
          }
        }
      ]
    },
    {
      "cell_type": "code",
      "source": [
        "plt.scatter(data[:,4], prices) "
      ],
      "metadata": {
        "colab": {
          "base_uri": "https://localhost:8080/",
          "height": 282
        },
        "id": "FeI1FSFIttc5",
        "outputId": "4b60644e-8dcd-4597-874f-90c299ac6ade"
      },
      "execution_count": null,
      "outputs": [
        {
          "output_type": "execute_result",
          "data": {
            "text/plain": [
              "<matplotlib.collections.PathCollection at 0x7fcc749fa5d0>"
            ]
          },
          "metadata": {},
          "execution_count": 16
        },
        {
          "output_type": "display_data",
          "data": {
            "text/plain": [
              "<Figure size 432x288 with 1 Axes>"
            ],
            "image/png": "[encoded data removed]"
          },
          "metadata": {
            "needs_background": "light"
          }
        }
      ]
    },
    {
      "cell_type": "code",
      "source": [
        "plt.scatter(data[:,5], prices) "
      ],
      "metadata": {
        "colab": {
          "base_uri": "https://localhost:8080/",
          "height": 282
        },
        "id": "db9k5LfMtt-7",
        "outputId": "997a696a-654d-47b4-d511-c308fe760c60"
      },
      "execution_count": null,
      "outputs": [
        {
          "output_type": "execute_result",
          "data": {
            "text/plain": [
              "<matplotlib.collections.PathCollection at 0x7fcc749eba10>"
            ]
          },
          "metadata": {},
          "execution_count": 17
        },
        {
          "output_type": "display_data",
          "data": {
            "text/plain": [
              "<Figure size 432x288 with 1 Axes>"
            ],
            "image/png": "[encoded data removed]"
          },
          "metadata": {
            "needs_background": "light"
          }
        }
      ]
    },
    {
      "cell_type": "markdown",
      "source": [
        "2. Impartiti datele intr-o multime de antrenare si o multime de testare, pastrand 80\\% din date pentru antrenare si 20\\% pentru testare."
      ],
      "metadata": {
        "id": "oY16j7t-YANX"
      }
    },
    {
      "cell_type": "code",
      "source": [
        "data, prices = shuffle(data, prices, random_state=0)\n",
        "\n",
        "n = int(data.shape[0] * 0.8)\n",
        "\n",
        "X_train = data[:n]\n",
        "X_test = data[n:]\n",
        "\n",
        "Y_train = prices[:n]\n",
        "Y_test = prices[n:]"
      ],
      "metadata": {
        "id": "w44sQ6SeYKdj"
      },
      "execution_count": null,
      "outputs": []
    },
    {
      "cell_type": "markdown",
      "source": [
        "3. Folosind mulțimea de antrenare din setul de date Car Price Prediction\n",
        "antrenați un model de regresie liniară multipla (fara regularizare) pentru a prezice pretul. Antrenati pe multimea de antrenare. (folosind functia `fit()` a modelului implementat in `sklearn`.)"
      ],
      "metadata": {
        "id": "Y3prvnnwX6aE"
      }
    },
    {
      "cell_type": "code",
      "source": [
        "model = LinearRegression()\n",
        "model.fit(X_train, Y_train)\n",
        "\n",
        "Y_pred = model.predict(X_test)"
      ],
      "metadata": {
        "id": "Lyf0sDvY0rFq"
      },
      "execution_count": null,
      "outputs": []
    },
    {
      "cell_type": "markdown",
      "source": [
        "4. Calculati pe multimea de test eroarea MAE si MSE."
      ],
      "metadata": {
        "id": "OecAm4DBZMBU"
      }
    },
    {
      "cell_type": "code",
      "source": [
        "# calcularea valorii MSE și MAE\n",
        "from sklearn.metrics import mean_squared_error, mean_absolute_error"
      ],
      "metadata": {
        "id": "4aIwjclq2R7_"
      },
      "execution_count": null,
      "outputs": []
    },
    {
      "cell_type": "code",
      "source": [
        "mse_value = mean_squared_error(Y_test, Y_pred)\n",
        "mae_value = mean_absolute_error(Y_test, Y_pred)\n",
        "print(mse_value)\n",
        "print(mae_value)"
      ],
      "metadata": {
        "colab": {
          "base_uri": "https://localhost:8080/"
        },
        "id": "UuyZBv_H2Ckl",
        "outputId": "d465bbe7-5b98-4d87-acfb-e0ccf22f8ac9"
      },
      "execution_count": null,
      "outputs": [
        {
          "output_type": "stream",
          "name": "stdout",
          "text": [
            "2.948831\n",
            "1.293665\n"
          ]
        }
      ]
    },
    {
      "cell_type": "markdown",
      "source": [
        "Incercati sa normalizati caracteristicile anterior antrenarii folosind normalizare min-max, apoi reantrenati. Cu ce varianta obtineti performanta mai buna?\n"
      ],
      "metadata": {
        "id": "E8qUtK2ne58N"
      }
    },
    {
      "cell_type": "code",
      "source": [
        "data, prices = shuffle(data, prices, random_state=0)\n",
        "\n",
        "n = int(data.shape[0] * 0.8)\n",
        "\n",
        "X_train = data[:n]\n",
        "X_test = data[n:]\n",
        "\n",
        "Y_train = prices[:n]\n",
        "Y_test = prices[n:]"
      ],
      "metadata": {
        "id": "CGihkUzK3yp3"
      },
      "execution_count": null,
      "outputs": []
    },
    {
      "cell_type": "code",
      "source": [
        "#Normalizare?? refresh"
      ],
      "metadata": {
        "id": "YJo_94YnxhTx"
      },
      "execution_count": null,
      "outputs": []
    },
    {
      "cell_type": "code",
      "source": [
        "model = LinearRegression()\n",
        "model.fit(X_train, Y_train)\n",
        "\n",
        "Y_pred = model.predict(X_test)"
      ],
      "metadata": {
        "id": "TaFKE7lH3kl_"
      },
      "execution_count": null,
      "outputs": []
    },
    {
      "cell_type": "code",
      "source": [
        "mse_value = mean_squared_error(Y_test, Y_pred)\n",
        "mae_value = mean_absolute_error(Y_test, Y_pred)\n",
        "print(mse_value)\n",
        "print(mae_value)"
      ],
      "metadata": {
        "colab": {
          "base_uri": "https://localhost:8080/"
        },
        "id": "erfrIxPH3mP_",
        "outputId": "e1097099-2866-4f8c-92ce-e9502a38fc79"
      },
      "execution_count": null,
      "outputs": [
        {
          "output_type": "stream",
          "name": "stdout",
          "text": [
            "3.0973592\n",
            "1.3384069\n"
          ]
        }
      ]
    },
    {
      "cell_type": "markdown",
      "source": [
        "6. Incercati modele regularizate de regresie pe aceleasi seturi de date: Ridge, Lasso. Testati fiecare dintre ele pe multimea de test."
      ],
      "metadata": {
        "id": "gccjulEyZPvm"
      }
    },
    {
      "cell_type": "code",
      "source": [
        "model = Ridge(alpha=1)\n",
        "model.fit(X_train, Y_train)\n",
        "\n",
        "Y_pred = model.predict(X_test)\n",
        "\n",
        "mse_value = mean_squared_error(Y_test, Y_pred)\n",
        "mae_value = mean_absolute_error(Y_test, Y_pred)\n",
        "print(mse_value)\n",
        "print(mae_value)"
      ],
      "metadata": {
        "id": "PcfSOlyjZYXQ",
        "colab": {
          "base_uri": "https://localhost:8080/"
        },
        "outputId": "8fead64c-9b1e-4074-8e0b-fa393d1a1000"
      },
      "execution_count": null,
      "outputs": [
        {
          "output_type": "stream",
          "name": "stdout",
          "text": [
            "3.759197\n",
            "1.3741585\n"
          ]
        },
        {
          "output_type": "stream",
          "name": "stderr",
          "text": [
            "/usr/local/lib/python3.7/dist-packages/sklearn/linear_model/_ridge.py:157: LinAlgWarning: Ill-conditioned matrix (rcond=1.8147e-13): result may not be accurate.\n",
            "  return linalg.solve(A, Xy, sym_pos=True, overwrite_a=True).T\n"
          ]
        }
      ]
    },
    {
      "cell_type": "code",
      "source": [
        "model = Lasso(alpha=1)\n",
        "model.fit(X_train, Y_train)\n",
        "\n",
        "Y_pred = model.predict(X_test)\n",
        "\n",
        "mse_value = mean_squared_error(Y_test, Y_pred)\n",
        "mae_value = mean_absolute_error(Y_test, Y_pred)\n",
        "print(mse_value)\n",
        "print(mae_value)"
      ],
      "metadata": {
        "colab": {
          "base_uri": "https://localhost:8080/"
        },
        "id": "yTys_edL6S9w",
        "outputId": "66f905dd-b1d7-4e7c-ee88-e1efde25aba4"
      },
      "execution_count": null,
      "outputs": [
        {
          "output_type": "stream",
          "name": "stdout",
          "text": [
            "4.15544\n",
            "1.4139047\n"
          ]
        }
      ]
    }
  ]
}