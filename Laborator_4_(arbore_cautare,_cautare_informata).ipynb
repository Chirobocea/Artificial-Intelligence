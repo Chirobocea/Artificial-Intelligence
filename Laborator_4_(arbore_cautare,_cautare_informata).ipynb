{
  "nbformat": 4,
  "nbformat_minor": 0,
  "metadata": {
    "colab": {
      "name": "Copy of Laborator 4 (arbore cautare, cautare informata).ipynb",
      "provenance": [],
      "collapsed_sections": [],
      "include_colab_link": true
    },
    "kernelspec": {
      "name": "python3",
      "display_name": "Python 3"
    },
    "language_info": {
      "name": "python"
    }
  },
  "cells": [
    {
      "cell_type": "markdown",
      "metadata": {
        "id": "view-in-github",
        "colab_type": "text"
      },
      "source": [
        "<a href=\"https://colab.research.google.com/github/Chirobocea/Artificial-Intelligence/blob/main/Laborator_4_(arbore_cautare%2C_cautare_informata).ipynb\" target=\"_parent\"><img src=\"https://colab.research.google.com/assets/colab-badge.svg\" alt=\"Open In Colab\"/></a>"
      ]
    },
    {
      "cell_type": "markdown",
      "source": [
        "# Reprezentare arbori (orientati)"
      ],
      "metadata": {
        "id": "d8kJq86fc4TU"
      }
    },
    {
      "cell_type": "markdown",
      "source": [
        "![arb_orientat_reprezentare.png](data:image/png;base64,iVBORw0KGgoAAAANSUhEUgAAAPoAAAC2CAYAAADwdpAqAAAAAXNSR0IArs4c6QAAAAZiS0dEAP8A/wD/oL2nkwAAAAlwSFlzAAAN1wAADdcBQiibeAAAAAd0SU1FB90DEwojNPXyIfIAAB6GSURBVHja7Z133BXF1cd/T6M/gCJNVIqExCiWVykCEokkMYaYCImiWHjRYIwFYowSe6K+SWyJRBEbKkZMCAZRsWMXLDHWCIqKVKnKIx0e7n3/mDPZc4fdW3dndu8938/nfp7n7t2dmZ2ZM+XMmTOAIAiCIAiCIAiCIAiCIAiCIAjhUCNZIJRAHYD1AFoDmCPZEV+qJQuEEurOMwDqJStE0IXypCeA+QAGS1aIoAvlyTgACwHsDuBcyQ4RdKE8ORDAJABdAPxLsiMZ1EoWCAVyOvs/LdkhPbogCCLogiCIoAuCIIIuCIIIuiAIIuiCIIIuCIIIuiD8l+0AVgFokKwQBEEQBEEQBEEomSrJAqGAuvJtAAcD2AzgKQCfSLYIQvlQDeBeADugNrKkAawBcKJkjSCUD2cCSNEnzf4uh9quKghCGfAq68nNzyjJnmQMyQQhF/v4XNN70ZtK9ghC8nmRDddTRm++AcAhkkWCkGymMSHfZMzPU1CWcZ0kmwQhuVzHBHoGlN/2lI+wr5esEoRkMpYEeSeAuXRtG127g/5uot9TAFZLlglCsjiCCfliAC0AjGbz8joog5k0gGtZzy7GM4KQEHoywd0A5bsdAF6j65Pp+yz6fg+AX7JG4A3JQkGIN3sxId+BzCU1PWw/jL4fTd9X0feJTNhnSlYKQjzpRMKtlWwHsN9+wxoATUsAa+n6QLo2gwn7jZKlghAv2kLZrWshP8L4/T367QLj+n10/9Ps2kssnPMlawUhHjQF8BETzhE+jYAetnc1ftNKu63sWjXUuWw6vOMliwXBPXOZUI73+f0KYy7OqWHD91PY9TpjhDBEslkQ3DGTCePEgHsW5eiZ/0S/zzeuN4dagtPhHyTZLQj2uRWe4uzBgHt6wNt/3jHgnv/Broo6zZ5QJrKpgKG/IAgRcjUT8hey3Hcl3TM3R3gNdN/VPr/1B9AIZXyzBcAekv2CED3nMCF/L8e92+m+Y3Pcpw1mgizjjmO9/lKopTlBECLip0zgluS4tyv1wuk8BLM7PJPZFgH3jGFxvytFIQjRMJiEbCeUaWuzHPdPpvtn5Rn+cngbXoKYwIT9RSkSQQiXrshUirXNcX8N682PyTOOY+j+ZTnum8SmDv+UohGEcKgDsJEJeY88nulM926HWibLh7b0TCOA/XPc+xAT9jukiAShdLjhSv88n3mRnnm4wLi0+evtedzLnU1eLcUkCMWzmAn5cXk+04QJ4KEFxtefnvsqj3urobT0On0/l+IShML5gAnR2QU81xeee6iaAuNsAU/73jeP+5sCWMn0AcdKsQlC/sxhvfJVBT67FKUpyu6hhmJqnvfvAeALEvbGIkYRglCR6K2jKQB3Ffhsa/Zs+yLj78camSZ5PtMDaofcTigFYEcpRkEI5rdMUJ8q4vlT6fmNJaShFt5S3mEFPHcoG/bvoHAEQTA4BaVbnq2i528tMS0TKZznCnzu+2w0sE2KVBAyGYpMW/Ji6IzgXWiF0psJbPMCnz2TpWOVFK0gKPg20bXIbdoaxOUUzhchpKmGwkkBGFDE89ewd3od6lx2QahY9kOma+ZOJQjmEgrrFyGl7S/IzyQ2iCns3f4uRS1UKl3heW3dAaBXCWH1gmfyGhbt4a2Pty4yjMfh2QJcJ0UuVBptAKxjQtCnxPBuoHA+CzmdiyncU0sI4z8ozvBHEBJNFTJNR48rMbzm8LaYfi/ktP4RnlKuFFax9xXrOaEieA3ZvbYWijZwaUD+Bi6FoIfve5UYTgNrNAZJNRDKmadZZf99SGHqo5SejSjNy0JKb0tkbrc9UKqDUI48wIT8zpDCbAJlX54G8K2I0q3XxTeh8E0yJt3gmcqKV1mh7LiJCfmsEMP9LoUZ9dnm2snkN0II6zB4y24NELt4oUy4mFXsV0MO+68U9v0Rv8NHFM/UkMIbyho+8SorJB5uv740hKEvp4YJy5ERv8cAiudLAK1CCnMkS//7UlWEpDKQCfk2KCcNYTKKwv/c0vs0RNCojGfCLl5lhcTRgwl5KZZl2XiBwr7Z0js9Q/GFbc56AxP2v0nVEZLCHlDKK61Z3juCOFoy4ehj6b2+Ae+I5d1CDns6e5+bpAoJcacVPLdKaRTmuKEQtIJvseX3W0Hx/jjkcKugPNBqYb9YqpIQV2pJ8LSQHxdhXAsRrtFNvtxJ8T4UUf4tZNOd06VKCflWnPYAOiB8RZgfC1glHRdhPL1Yz7eX5TzlcUehd6iD2q6rG8ujpRoL2RgLZW6pK+X2EHq/Xgj2g/Yyi2tSxO/2J4rH1UGHek39jIjCbwG1bVcL+zelOgt+aO8m6wGMADAEykd6qWeFvQh/w46p8DTscyy830qK73xH+avPZo9yOWx3yk89QgqynquW6l6ZVFNP4OcFVS8PdS8i3Hp61nShfCUT8rctvN+32MjBlZfV/ajHjWr4ruluCHu9zz1nAPiaVPvK4xCo5Z/TfH47kSrMyCLCvZ+e7cau/YwJ+QJL73cXxTnbcT7Pp3RcGnE8g5mwp7DrNtyTATwo1b7yqKLK4DekuwrF7fJqB2AzPatPGT2WCbnNJa5ViF6jnw8XUDo+8fktbMXnqSyvlxsjmdPptw4hxXU2lO+9j43PYoTv1EOIgDooO+01KNw5wxQ2XO4Lz+57J0rz2pqLJ4zvRyMcby9h0JkN37mvu9YALoogvovYu7/Brp9P18Lq1WdBbfv91PgshqwAJAI91Pxhgc+1hdqHreeJvyIBT5EeoH2Eaf7S6B1nURomxyRP51F6bjeG0g9EFN8kJuyP0LUr2LVSe/U6AB9C+bgDjRz4R1xWx5wPUbwb5NuQabO+g/0ftRLoCwCvsOHwOop3cEzy9Sx4Lqy0oCxGcUdJ5ctsJtg3wlthSQN4rMSwO1A4d4jIJItm1CumAYwu4vmmUIq9lCHsaaglprFQpprXA7gbyrXx8BDTr3eL1cM76qjBmKPWQB0AYYOjjRFMNcuPoTSHtbG+/waLd5lRNqU4sdAHaRxD3wcCOEjEKN7sj9LP7L6ZVSj+SflcW4HwjwveQGHfB88g5zo2F54M+/u4V1PP2YO+PwLPPmEe5fnyEOM7EMr6rxWNGGrZVMyvAX6ihLjGUhhzjLLdCPFcG0t6UIXbVmJvp4fpqSzCvh3AhRG9x2aKp5FGFlrHcBdLQyfLedsZnlupJwFMYPmg07QyxPgOo8aM5/02eJtreHmkqNyL7dXvprDepNFLXwBjWN4fIqIVH6qhNOt6zbup8WmG/Ly8/CVAwLmQzwbQJaL3qDKERzuv4Ok4xfHcPBXwd20EcY6k0YTZg/uV0cNFxjEQwDk+1w+A5wZMLPFiwkgmFEtpDsc/a6A8s+QiZfTm/P+VAH4Q8XtUsamHX4V27aDhiSyCth7huszStARwT0DjYjaIYTuc3EJxNBERiwe/gfK8EvR5Gf4Ks92octRDLRf59VYpAH+29B5VPtMGPTRtiEE+a0Wnn6BvROFHLRfC1+DtXQgadRXrBacmoCz00VRNRcSSSQuo44a/oIL8OGBouAjhWV/lQ8eA3iqN8JV+xXKUT9q0B5p6C/H/2pje8LRshfL0ky/NEXx2XS08JWONiEwyuTagZ0ixSjvWQbr6BEwbLolZ/t3kk3+NULvPbFAL4F8BDc49BYb1KDzrR47e03COiEsy2YvmXkFa9Zcdpm24T4/+TkyVQSt88tD2asB34RkU6fxqBPAPmooNQm7Ltn3Z8+dDKef0Zqb3RFySyzcDBFzPhcNUvFRBLfsNAtAzj/vH+egJOsU0H/f26dX3cZSWO41yTLFRRj6jofZQ++w3QS2vrkL0jkSEiOmC4OWzz6AMNMKgFzLXffUurG5ZnrnBEJyRMc/LE4087OMwLZcFlOtGiLeaiuQi+C9fpRDuGvVXbO5XD3XMcQOUAjCoh+SuqZ5JSH4+yPJxhMN0vIBg24dTpNpXFqMRvB4b5v7m31F4A4zrY+j6T4zh/QU01+TDzu8kJE93g3ey691Qtu8tHKRjDna1gdDlepJU/cphGKsAurfdDmVu+Q5dfyWkuDpB+UBvGpCGc9m1IUxQzGlE+wTkaw08gxY9L/6Q9BI2OTNA77IeckxzxdCXFf4W1rNrLzEHs9+jNI54luLhJ55M9xlq6r+jEpC3Pw0YHX0Eta/fFt0CpmPLpPpXBvtCmUem2PB8Ef1/OeuVtOeUw0OOvxeAaVCuitIkGJznELyJJi5ruDMRfETz01nmxsc46NHXQW0nvpjlaxsRg/KmHdRmC20/3oeGcdoohs/Jn4G3bh0m51LvtgJqZ5q5bHNtQI++E8oKzTWXUJrm+fxWBbXrK2hufILFdGpz1Z+xa7rx/oWIQvmiPZ/oijeMrv+avpsCrX2KNyJcU069XNcEngukqez3zqy35wKzBu4NZfZi6ZkXcM+kgIZqG+xt8exJ8W4xpgt6ye0DiEuosuVDVgH5eV56n/EEn2e0UixKLe0SEgRODxL+j6E8tegefXfHebgOwFwoxeC8LHPj5T69+W0W03kRxf0vnxGHLtO9RSTKj3dYheM+yPvD07b79ZZ/od//XWL8B0M5TPTjceT26LrZwdDX5J+UBj0ympfl3u5QHnE+AvAWDZVtbu3Um1z8jovSjZCc1FpmPM+E3HT4dytdz7aMFoYfsjfhf8ILAHxOw9psaG8ybzvKQ71KMYDNf+fFtLy1z7eN8Ldq1NZ7CxGe1aPgGO6L3e88NP3b2BzD1TSA80pIxyh4vsyq2DBSn182JY8wdFr3tJyHTUlonmTX4izoehT2dMDvLeA5kOglIpJ8LmLzRL9dRz9iw/ZsnMN601L2Id9D8+xGGq5rl1D5HlL4OaI/itmPZ0mPUZMQQc/HxZb2P/dbEZNkczwT8iUBAjqT7nk8R1gtmVCWuhvrSKg19DlQbqCGFfDsr5i+oMpyPvaiYW6dj6DHyQmDPiJrQ573mW6zhQRxOBPyjQEF2RyegmtIHmF+Svde6PC9msNTMnWzEF8t1JLeTijt/2dQhkWLoNajt0KduXZ9jMpeKzYfyWM6sh7+DiZij3imVEsmc6kAq6BszBt97juOBOdLKEu0XGgN7XkO83kLjU70nN/GEPg1KK+nq6C01Svos5ManRWIh+86QPl81+ei3ZDj3m3wHIrIBpeEsQcy126zbQB5ie65K8+wW8Pb+OLy1I6T4J1e6rJhj+McfTQ8w6JChvlpEZ3k0AaZlmRfz3JvZxrSp6Hs3vPlebhX4LSFd0TTgSLoGegjmqYW8Ix2BipHISeAZlDKF92T5zrWVh88sKDAeEbGpAfQDc41DtOwgqZIcaEbPDv2QizetC+4mSJG8aYGmaat+WxWeJ3uvbKI+HRvOsjhO58A70giV9RDrUbEhQuKbLy/zeqOaN9jDHcXdHke93di9xdzjNJD9Oy9Dt+5Ct7psIOlCgBQdhLFNt7aPmGMZGM8mcGENt+TU/TupWKHnT+OyfBd253fJ9UA+7EyKWaX4e307FuSlfHjFla49xfw3AKU7sBBK3BcemSNS4MTB66hfHihyOd7wp15sZCFS5Ddfj2IdiUO2zVagfO843zQw/dK92j6EXLvV8jFJxTGZSJe8eA0JqzvozDzyykhCWgflgaXCin9Ps9VcH0oddiu0ZuLFoqIuec7rFBXoHC/XytCHHKvhHdkjysGQjTGurF7uMRwWsKzwzhYRM0dh1BB7IQydil0LqWPCwrrzOwb4e9+yjZrEOwdpxJYRu8/PISwXqGwrhNxc0M3KLvqnfQpxif38wj3tJOOrOHp6TBv/gC3Dilc0pvefRMy3WUXy+kU3hIROfu0ph5cW731LjKcDfT8t0JMm3ZPdYXD/NEjlUbY2dEWJ56jd58RYph6KjRARM8eNYaQFyukem6/A+Eqz8bB22DiEu1E4aoKqx96k1GYRkN/R2GbnYQQC9I8m6xYQZgWcvrq4ClwDnGYT2dTOj6roLrxA3iHM4TZeP+Qwl0GcQdthWWsJ7+gxLC0O+codnvNprD/5DCvWrDh+yEVUj8+jKjnbcrqSz8Rw2h5kQl5qb7Az2JhRYHe0bbIcZ7pBuemCqkjeqfaoRGEfSfyczEmhJDJKeR2B5QP+vCDKyPuTV3vD9cHGy6tgDpyIbxTWKJgAIX/JcRrUyRczoT89RDmSLXwfKx1iTDd0yiOfzjMu5aswTmozOuJPhAzqtWO5vCMq44SsQyX0UzIl4bUkv4G3uGJUTKU4lkNtwqcqZSO6WVcT+rYsL17hPFMRDwMosqK7yDTa2sY7oOroDY7pBD9MUb18Ha0HeYwH3WDs7aMh5z6cIZNEcdzEPLz+S/kyYFMyLfTsCkMOsNTwu1h4T20zbVL90qt4PnCK9fhuz6Q8viI46mCZ147VsS0NPaBd0poY8jz6AkU9qeW3qWvpZ4mF1qZ+VoZ1pcu8M61381CfL+luFaJqBZPOyj/a9p+Pcw1yyp456X9wNL7NKUKkYZyI+yKw2LS4ETBJGq8bS1ldoW3n0EoAq3V1K3z8JDD7wFPA93a4nvdRHEudpi3zaCUgmnSfZQTuvE+wmKcuvG+ScS2MGqg3Dnp+fPZEQ25UlCHA9rUgusGptFxHt8Mb89+uXAwqzOtLMY7muL8QkS3MOay3vbKCMKvhafcG+bg/bQ76Esd5vGeMWlwwmQylelsy/Hy03/qRXzzYxYT8okRxaEd/blaFjmf4l/pMJ+rqQdKQZ3AmnTqWL1xYX+ute//EBHODffa+tcI45lKFfxhR+/ZifUALo1nJlA61pdB3eE++lwc0dyPynONiLEqgI45erk0zZujogk8LalL00W9lj3ZYRrasQanJuF1awa9xxRH8TeH+JP7L98H8DWf68ezTJqPaJ0YauObr2KQF1oZ5rJX30z5fkuC61ULVn9cbht9VobvqjL7HSh/NCuk1RaUGW8iHI+gpdKKvbdpj32WxXQMozSsTHCv3p/ycqPjRnNfeArOij2jTXv7OIZdO5wyJSozVPPEzN2ZcHWLQZ68Tekxh5v/tpiGZmzK1DWhdWs+pf8Ox+ngCsGK3dGmhVmfGNINyq2yvt45gjjvNlr44YiXuWJvev/NrDd9CMrow4Wg3J3AerUbPJ1L9xik5xYq0xmVKOQ/ZS3deChLtE1MyPeNKN6nkXl+2hJEr9HPRgfjexOWL/3pmnZRZJNvUllsoDQliRGIlzONr7N63cJHDsoaLtTXQ22R1N/7RBjvXHjOELvD7fILoBw/fADgZ+zadMqLu2jo6eJQRN7gxNkHWk+olQKzbqUB3BqTNFazxnoou34tgF+Xs5CfzCpRyhiuR93C6SHp8QDOw64mn3UAboDaIWeLQ1k6xgM4gPJjk9Eg1lkup0dYg2MSF2uvY6EOz9Tsw4btzWJU56+idL3MrjUA+H25Cnk11AHyKSbo+v9pUD7Yh0PZCo+njBgRYvw67rfgeQS9EEB7amE3QR2cZ5tLWeO3FkohyRvDNIC2jobvKUNo+iH6fd2FdBqfs+/a4Mf1qSlHGY1hd1amu7N03lkJvXnapzLzz3oAZ4Qc/xajgUlBmdXq6x84zJsF1BOlAvLE9hnc1TTaSgMYwq6/idL85YfJeErfifRdGx2ZfuH2tpyutpSWa6CsHgFgOZXpkfB21D1croL+idGLm4Ku/96LaHYbmQKUYkO9rdTauqJllkYvDX/DoqgxNcZ6T8DomA2JF9CUx9yU0xPqXHoXe/37UXo2U2eityMvY2Vajo4+/mvtlq1Hnx9xhc7WuJwWgzw6Mssox4abp0uNeA5gQ84mUF520zFSIk1i+fQy/X2PBHw6fZ/tMH23svQ1+pTpx+Uo6B/49OY8E6I+dLB9lobmlRjl06yA4fvhFuLWBh7vwzuYUjukOIml5Q8xyaspPnXqffZ/g+P0VSFzRcnsYJaXm5D/KMuc/N+wY6a4f8BI4quY5VUNpcmswLYsq/Y2epzpPuUWl8ME/xlQp7SrsSNikMaOWaZkrl19h8572FXTvh7AKItpGGJUCp2eA2KYX72RqZhLA/ixxfhvDpjepGOmRHouyzRwSozK89yAfFwPu55vIumV9qX53hgfAbvXoY6AZ3acfXpdb6T3LMvxr0GwYnBeTPLorYD0LYtheb7t03BuRvA27djTAeq86B3GUCoFdTjCvo7SdY7R4PwnAXn5KasUv7McdxsqQ78VkoUxyZ9FPmnbgfD8/Iet/9hi5GcjlM/ARHJ/wLDPtVH/VSw9m+Gtb8aZJqzBdDEvPhX+S5KfxyR/1vv05ifHuDyH+eRn7yQK+Z7INNvkfxfBrenk7SxzT0tQnk6Gdwroo1BKRZvM8enV18Ykb8zefG4CyvMZIz/7J1HQe0A5WEzBX/nmwiBlPygDj3mUnicSlJ+XsuGz/jTA/lltG43K2YB42JJzIV+N5DjK4EtuQ+Kc0N1pWHe0kbnt4K27mkOUtxxUjsuhlqp4y392QipDF+y6Bqs/j8HussxR2FWJ1N5x/piWhP2QHDqyshwWxwQ2gTLbS8Ozg07TsFgzAf5LHsMtp/Xb8LYHcmFZh3guqZn0g2dNZY6OlsH+PvFpLA+3w60SqY5GatlWT1rn0bG0gP3NQs2gLAu1fuF9+K/371ZAGbcLO5HPU+JGUUL2AfAkMo/yqQNwOoB3oZZoXqNWy7ZhwF8RbNv+S5p7LszyWQq7RzOZHMimQWajuQBufJAtYekZ5CD+plR2HzNBWeozZG9JjWSQf/pOVJe1YdJiAOMsvcNtPvVxI4AB7B5ttJTP0d1/QMj+CgZSgOY2zmq6/oZPy1VPheOChxFs8noFlFOHx30+T8GzrLKR9jOhjDtmUMXUBhS18Oy3TeXmBEd5ym0i1lIedrYY/9XYdffhVgAj2T2toPb2p6BchvuxmqYfv4Da8KLzOeqDK/Yz9B28EX+S7tkTwJf0Wy5BP4uFExq3UA/TLGDo0DJmQ9/z4W9b3wjguCzPabPKqHeLNYW3J/51AC/BM4tsQ/fsD0+JqKdLd8CNNVVv6kVTRr4+aUkJ1gmZRjy8XN+he34Cz8NMOkDQJ9JvA43r7yJ6c+jvBtRJbWMyCpn2JydkmULfZTwfGq9DbTPV88dLAFyG+GoNmzF9As/YB2kU4of2ZXeehfRdR3Hx3ugguvYCm+o0J33DCChvNK54EP4bM1JUgaNmfwSv6CyFZ78xH57XHj9BXwz/k2u1X/1TI3yHvoZuK23oPbTV4dAsgl4HT8E8jk2dQ2Md9Tr/RwHzlmd6TIW9FdTm/7dpavHLLAqOFqxHtcFrUJZvfhVxG+y6jmpLc8etVK6PYdf1+vkI3pwx1kIauyJzBYWn412oY7XOpXt7ZBH0FDVaJtoH++0RvkM103OljenH21A7BAFgcBZBbwa1Ft+Nvj8VtqBvo2HvBkNx8CpTcCWZyyjTB1uK7xUoCzNz2PsFte62lG17wlurf5YE5iPsusY7G8F7+X9oKa1Tfebo2h0YJ5ugp6nxN9Fuoh+K+B16kHDqFaF1UEd2cwYXoIwLXdA3BxSqVsatQXJP9tDnZNn0Nabdak2C0u7XQ63xp2lYb4tHkOmOic9Zt8OzZhwEz+qRC9mrsKdwbQfgPurZd5CQ/NEn/iBB12fLXZylDjxp4T2qaJo2EP6OSJ0K+nISdj9WU2/fJKGCfiJV3BMtx3uCzzD4SstTG+2VxWQvypPR7NpJUEtb26guPAagl4Py6k6C0iVLr+kn6G0QfA69nro9FoP66FTQn8oi6MtpKFKXUEHfDmVLbhPtjONzKAOK8TQ/T0Mt+9hAC8RtPr+1oXyZZlyvp/lhlxiP4HIN3a8NGC3ERd8UiaBXFyDozbGr7/VamufpXj1pdKQG6nWLcbahueAnUOvQ1wH4Mymc5kEtZXazkI5N9LdDQA9XTenjxk4boA7BWA5la5A0tkK5sjbRJr3LUKbkK+g30N87kLkLTRumjIP9E0XCoBfsbwPVSi4/pdD/UnpsmAyvoxHFUdjVCvAi6rHbFVBHksBS+J9XrreLPl7pgp4G8A3qjdZTb7ANav3xAQAzE/r+P6d3m2q5R9eCZrLF6GGipJGGt/VQ1mSnQC0zzYSy2NsOTwlbLtxN046TjOsPUG/+NAQASuE2Akr7eRXUskSSWc2GsLbQGzL+5vPbKfSbzUMSxtAwXCsE10CtrW+B/Z1yUc/RAc9zz6tQLpn1AR6DYpJ+p8q4cuUduNG0PgpPMdSBPqfBM9qxrdhsCaVp13PyltSj35jAMu0CZSAVtIpSS3qQJaRrmAc3qwdBHEzpH5rHvRORDIcbFT0y0mabjfAsDV+Ava2TVVB2/36jh0GI8X7pkKiFu01XQoXRBWqL7/egtO62eRz+mzlWQGnYRRAEoQw4HN4OsDFQZ7X/B5k+BgRBKAO+B+VsQyvj3oTaMScIgiAIgiAIgiAIgiAIgiAIgiAIglCJ/D80PMzxDrtD0gAAAABJRU5ErkJggg==)"
      ],
      "metadata": {
        "id": "kIXc1iiyFLO8"
      }
    },
    {
      "cell_type": "markdown",
      "source": [
        "## Liste de parinti, costuri\n",
        "\n",
        "Arborii sunt formati din noduri cu urmatoarele proprietati: nume/valoare, parinte, fii, cost (optional). In plus, un arbore are o radacina (unica). Aceasta poate fi retinuta explicit, sau poate fi identificata ca fiind singurul nod fara parinti. \n",
        "Relatiile intre noduri pot fi reprezentate ori tinand minte intr-o structura parintii fiecarui nod, ori tinand minte fiii fiecarui nod (sau ambele).\n",
        "\n",
        "Pentru scopul de a retine drumuri prin arborele de cautare, este convenabil sa retinem legaturile catre parinti.\n",
        "Exista mai multe modalitati posibile. Una dintre ele este folosirea unui dictionar de noduri unde pentru fiecare nod retinem parintele (similar listelor de vecini de la grafuri, doar ca fiecare nod va avea un singur parinte, deci nu mai avem nevoie de liste ca valori in dictionar, ci pot fi scalari)."
      ],
      "metadata": {
        "id": "Sfz6ukwDcrqF"
      }
    },
    {
      "cell_type": "code",
      "source": [
        "arbore_parinti = {\n",
        "    6: 2,\n",
        "    7: 2,\n",
        "    8: 2,\n",
        "    9: 3,\n",
        "    10: 5,\n",
        "    11: 5,\n",
        "    2: 1,\n",
        "    3: 1,\n",
        "    4: 1,\n",
        "    5: 1,\n",
        "    1: None\n",
        "}"
      ],
      "metadata": {
        "id": "pidJ_P8kcvf7"
      },
      "execution_count": null,
      "outputs": []
    },
    {
      "cell_type": "markdown",
      "source": [
        "In exemplul de mai sus, am folosit valoarea speciala din python `None` pentru a indica faptul ca nodul 1 nu are parinte (este radacina)."
      ],
      "metadata": {
        "id": "CU_mm_toG9TG"
      }
    },
    {
      "cell_type": "code",
      "source": [
        "type(None)"
      ],
      "metadata": {
        "colab": {
          "base_uri": "https://localhost:8080/"
        },
        "id": "zpoh1ey8HH9F",
        "outputId": "a68dd03f-7476-4a5d-b6a5-6bb16648573a"
      },
      "execution_count": null,
      "outputs": [
        {
          "output_type": "execute_result",
          "data": {
            "text/plain": [
              "NoneType"
            ]
          },
          "metadata": {},
          "execution_count": 1
        }
      ]
    },
    {
      "cell_type": "code",
      "source": [
        "x = 0\n",
        "y = None\n",
        "if x is None:\n",
        "  print(\"X este None\")\n",
        "\n",
        "if x is not None:\n",
        "  print(\"X nu este None\")\n",
        "\n",
        "if y is None:\n",
        "  print(\"Y este None\")\n",
        "\n",
        "if not y:\n",
        "  print(\"Y este None (sau 0 sau lista vida...)\")\n",
        "\n",
        "if not x:\n",
        "  print(\"X este zero sau None sau lista vida...\")"
      ],
      "metadata": {
        "colab": {
          "base_uri": "https://localhost:8080/"
        },
        "id": "B8iMji5zHJPv",
        "outputId": "65e5b185-18f7-4410-b9b8-d3bb51a0487b"
      },
      "execution_count": null,
      "outputs": [
        {
          "output_type": "stream",
          "name": "stdout",
          "text": [
            "X nu este None\n",
            "Y este None\n",
            "Y este None (sau 0 sau lista vida...)\n",
            "X este zero sau None sau lista vida...\n"
          ]
        }
      ]
    },
    {
      "cell_type": "markdown",
      "source": [
        "Exercitiu: scrieti reprezentarea arborelui binar din desenul de mai jos, folosind dictionar de parinti.\n",
        "\n",
        "\n"
      ],
      "metadata": {
        "id": "H_v3sOrCDDik"
      }
    },
    {
      "cell_type": "markdown",
      "source": [
        "![arb_binar_orientat_reprezentare.png](data:image/png;base64,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)"
      ],
      "metadata": {
        "id": "XXHL-2GfIPqA"
      }
    },
    {
      "cell_type": "code",
      "source": [
        "arbore_parinti = {\n",
        "    1: None,\n",
        "    2: 1,\n",
        "    3: 1,\n",
        "    4: 2,\n",
        "    5: 3,\n",
        "    6: 3,\n",
        "    7: 5,\n",
        "    8: 5,\n",
        "}\n"
      ],
      "metadata": {
        "id": "NcIU-XhTDXsx"
      },
      "execution_count": null,
      "outputs": []
    },
    {
      "cell_type": "markdown",
      "source": [
        "Nodurile pot avea asociate costuri (corespunzatoare arcului care ajunge in ele, sau drumului din radacina pana in nod).\n",
        "Observam ca fiecare nod are asociat un cost unic. In acest caz, putem reprezenta costurile folosind un dictionar separat.\n",
        "\n",
        "\n"
      ],
      "metadata": {
        "id": "1Rbbn__p7HFg"
      }
    },
    {
      "cell_type": "markdown",
      "source": [
        "![arb_binar_orientat_costuri.png](data:image/png;base64,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)"
      ],
      "metadata": {
        "id": "YAJnqTo6s6LZ"
      }
    },
    {
      "cell_type": "code",
      "source": [
        "arbore_costuri = {\n",
        "    1: 6,\n",
        "    2: 3,\n",
        "    3: 4,\n",
        "    4: 3,\n",
        "    5: 3,\n",
        "    6: 2,\n",
        "    7: 1,\n",
        "    8: 0\n",
        "}"
      ],
      "metadata": {
        "id": "BbepbzqiIpcI"
      },
      "execution_count": null,
      "outputs": []
    },
    {
      "cell_type": "markdown",
      "source": [
        "Acum putem obtine, pentru un nod dat, si parintele si costul, folosindu-ne de cele doua dictionare.\n",
        "\n",
        "Exercitiu: obtineti costul asociat nodului parinte al nodului 5:"
      ],
      "metadata": {
        "id": "i0kkKYxOvHc8"
      }
    },
    {
      "cell_type": "code",
      "source": [
        "n = arbore_parinti[5]\n",
        "print(\"Parintele lui 5 este\", n)\n",
        "c = arbore_costuri[n]\n",
        "print(\"Costul nodului %d este %d\" % (n, c))"
      ],
      "metadata": {
        "colab": {
          "base_uri": "https://localhost:8080/"
        },
        "id": "rKzdNTJovR4J",
        "outputId": "25dd00a9-bb74-4132-eae8-2e40285c856d"
      },
      "execution_count": null,
      "outputs": [
        {
          "output_type": "stream",
          "name": "stdout",
          "text": [
            "Parintele lui 5 este 1\n",
            "Costul nodului 1 este 6\n"
          ]
        }
      ]
    },
    {
      "cell_type": "markdown",
      "source": [
        "**Optional**: O alta varianta de reprezentare a arborelui ar fi o lista de noduri, unde nodurile sunt dictionare care contin toate informatiile.\n",
        "Putem retine fiii in loc de parinti ca legaturi asociate nodurilor (desi pentru problema noastra va fi mai utila reprezentarea unde retinem parintii).\n"
      ],
      "metadata": {
        "id": "_jTQ1zroIovQ"
      }
    },
    {
      "cell_type": "code",
      "source": [
        "arbore = [\n",
        "    {\"nod\": 1, \"fii\": [2, 1], \"cost\": 6},\n",
        "    {\"nod\": 2, \"fii\": [4], \"cost\": 3},\n",
        "    {\"nod\": 3, \"fii\": [5, 6], \"cost\": 4},\n",
        "    {\"nod\": 4, \"fii\": [], \"cost\": 3},\n",
        "    {\"nod\": 5, \"fii\": [7, 8], \"cost\": 3},\n",
        "    {\"nod\": 6, \"fii\": [], \"cost\": 2},\n",
        "    {\"nod\": 7, \"fii\": [], \"cost\": 1},\n",
        "    {\"nod\": 8, \"fii\": [], \"cost\": 0},\n",
        "]"
      ],
      "metadata": {
        "id": "Z9lwnY3DIRlm"
      },
      "execution_count": null,
      "outputs": []
    },
    {
      "cell_type": "markdown",
      "source": [
        "Un alt tip de reprezentare comuna foloseste *clase* din Python, insa nu vom discuta aceasta reprezentare."
      ],
      "metadata": {
        "id": "6HepVXIJuPFy"
      }
    },
    {
      "cell_type": "markdown",
      "source": [
        "## Arbore de cautare \n",
        "\n",
        "#### Drumul prin graful starilor ca drum in arborele de cautare.\n",
        "\n",
        "Putem construi drumul prin arborele de cautare treptat, pe masura ce parcurgem graful starilor. Astfel, vom putea reproduce ulterior drumul pe care am ajuns la nodul stare scop de la starea initiala."
      ],
      "metadata": {
        "id": "jRQO7kXcAwRa"
      }
    },
    {
      "cell_type": "markdown",
      "source": [
        "### Retinerea drumului prin arborele de cautare.\n",
        "\n"
      ],
      "metadata": {
        "id": "mWzv0yYGBQYz"
      }
    },
    {
      "cell_type": "markdown",
      "source": [
        "#### BFS\n",
        "\n",
        "#### Pasii algoritmului\n",
        "\n",
        "Initializari. Trebuie sa stabilim un nod de start si unul sau mai multe noduri scop. In plus consideram o lista de noduri (sau drumuri, adica liste de noduri) neexpandate inca, organizata sub forma de coada (o vom nota cu c sau frontiera). Punem nodul de start in coada.\n",
        "\n",
        "Repetam urmatorii pasi atata timp cat coada nu e vida, sau nu ne-am oprit din cautat drumuri (am calculat deja suficiente drumuri-solutie):\n",
        "1. Extragem primul nod din coada. **Setam in arborele solutiilor / drumul parcurs parintele radacinei la None.**\n",
        "2. Verificam daca e nod scop. Daca da, ne oprim. *(in cazul in care ne intereseaza drumul in sine, afisam drumul)*\n",
        "3. Expandam nodul extras obtinand nodurile lui vecine. **Adaugam in arborele solutiilor / drumul parcurs nodurile vecine si setam parintele lor ca fiind nodul extras.** \n",
        "4. Daca nodurile nu au mai fost vizitate, le adaugam in coada c. Pentru a marca nodurile vizitate, verificam pentru fiecare nod (de la radacina pana la nodul tocmai expandat) daca mai apare in nodurile explorate, caz in care nu il adaugam in coada).\n",
        "\n",
        "**Returnam /afisam arborele solutiilor construit.**"
      ],
      "metadata": {
        "id": "NjKpigeLBbBa"
      }
    },
    {
      "cell_type": "markdown",
      "source": [
        "\n",
        "#### DFS\n",
        "\n",
        "Initializari. Trebuie sa stabilim un nod de start si unul sau mai multe noduri scop. Consideram o stiva S initial vida. Punem nodul de start in stiva S.\n",
        "\n",
        "Repetam urmatorii pasi atata timp cat stiva nu e vida:\n",
        "\n",
        "1. Pentru primul nod din stiva verificam daca e nod-scop. Putem continua apoi algoritmul (in cazul in care avem mai multe noduri scop, putem avea un drum care se termina cu un nod-scop dar are si alte cateva astfel de noduri in componenta sa.). **Setam in arborele de solutii / drumul parcurs parintele nodului de start la None**\n",
        "2. Pentru primul nod din stiva cautam un succesor care nu a mai fost evaluat pana acum din multimea de succesori ai nodului din varful stivei, si care nu se afla in stiva curenta (e nevoie si de a doua precizare fiindca nodul succesor daca se afla in stiva curenta, a fost evaluat anterior, dar cu alt parinte). Il punem in stiva, succesorul devenind astfel noul varf. **Adaugam in arborele de solutii / drumul parcurs nodul succesor ales, si cu parintele sau nodul din varful stivei**\n",
        "\n",
        "3. Daca nu avem succesori pentru primul nod din stiva, il stergem din stiva (spunem ca se realizeaza o intoarcere).\n",
        "\n",
        "**Returnam / afisam arborele de solutii / drumul construit.**"
      ],
      "metadata": {
        "id": "-dIbxt61BcVR"
      }
    },
    {
      "cell_type": "markdown",
      "source": [
        "## Coada de prioritati"
      ],
      "metadata": {
        "id": "064fo3a3A5DA"
      }
    },
    {
      "cell_type": "markdown",
      "source": [
        "Intr-o coada de prioritati, elementele se adauga si se elimina conform unui cost."
      ],
      "metadata": {
        "id": "aGFZpOWeJ6pG"
      }
    },
    {
      "cell_type": "code",
      "source": [
        "def extrage_min(l):\n",
        "  if len(l)==0:\n",
        "    return None\n",
        "  # l[0] = (2, 3)   (nodul 2 cu costul 3)\n",
        "  m = l[0][1]\n",
        "  im = 0\n",
        "  for i in range(len(l)):\n",
        "    if l[i][1] < m:\n",
        "      m = l[i][1]\n",
        "      im = i\n",
        "  l.pop(im)\n",
        "  return m\n"
      ],
      "metadata": {
        "id": "i1FOrm0QA7ZL"
      },
      "execution_count": null,
      "outputs": []
    },
    {
      "cell_type": "code",
      "source": [
        "lista_noduri_costuri = [(1,2), (2,7), (3,0), (4,9), (5,-3), (6,2), (7,3)]\n",
        "print(\"Minimul este\", extrage_min(lista_noduri_costuri))\n",
        "print(\"Lista este acum:\", lista_noduri_costuri)"
      ],
      "metadata": {
        "colab": {
          "base_uri": "https://localhost:8080/"
        },
        "id": "JXjhQMgn8-VB",
        "outputId": "0e06bf86-2a7a-4185-966a-97288f7237c0"
      },
      "execution_count": null,
      "outputs": [
        {
          "output_type": "stream",
          "name": "stdout",
          "text": [
            "Minimul este -3\n",
            "Lista este acum: [(1, 2), (2, 7), (3, 0), (4, 9), (6, 2), (7, 3)]\n"
          ]
        }
      ]
    },
    {
      "cell_type": "code",
      "source": [
        "print(sorted([4, 5, 6, 2]))"
      ],
      "metadata": {
        "colab": {
          "base_uri": "https://localhost:8080/"
        },
        "id": "lY_aZCT-MFkv",
        "outputId": "c89579d8-51f3-4b14-b439-548f83721915"
      },
      "execution_count": null,
      "outputs": [
        {
          "output_type": "stream",
          "name": "stdout",
          "text": [
            "[2, 4, 5, 6]\n"
          ]
        }
      ]
    },
    {
      "cell_type": "code",
      "source": [
        "# sorteaza lista_noduri_costuri dupa x[1], daca x e un element oarecare al listei\n",
        "print(sorted(lista_noduri_costuri, key=lambda x: x[1])) "
      ],
      "metadata": {
        "colab": {
          "base_uri": "https://localhost:8080/"
        },
        "id": "AcjtwCD5MZFx",
        "outputId": "2c572f5a-41a1-4505-c999-5837bf91b713"
      },
      "execution_count": null,
      "outputs": [
        {
          "output_type": "stream",
          "name": "stdout",
          "text": [
            "[(3, 0), (1, 2), (6, 2), (7, 3), (2, 7), (4, 9)]\n"
          ]
        }
      ]
    },
    {
      "cell_type": "code",
      "source": [
        "def f(x):\n",
        "  return x[0]\n",
        "\n",
        "# sorteaza lista_noduri_costuri dupa o functie f\n",
        "print(sorted(lista_noduri_costuri, key=lambda x: f(x))) "
      ],
      "metadata": {
        "colab": {
          "base_uri": "https://localhost:8080/"
        },
        "id": "hiFXJGAyPura",
        "outputId": "667fd0ac-1048-4cde-9de0-c842a925afcc"
      },
      "execution_count": null,
      "outputs": [
        {
          "output_type": "stream",
          "name": "stdout",
          "text": [
            "[(1, 2), (2, 7), (3, 0), (4, 9), (6, 2), (7, 3)]\n"
          ]
        }
      ]
    },
    {
      "cell_type": "markdown",
      "source": [
        "Putem retine coada de prioritati unde stocam frontiera ca o lista sortata. La fiecare inserare a unui element nou, il inseram la locul corect, astfel incat lista sa ramana sortata."
      ],
      "metadata": {
        "id": "BWJ-E5mQMM_N"
      }
    },
    {
      "cell_type": "code",
      "source": [
        "l = [1, 2, 4, 6, 7]\n",
        "l.insert(3, 5) # insereaza la pozitia 3 elementul 5\n",
        "print(l)"
      ],
      "metadata": {
        "colab": {
          "base_uri": "https://localhost:8080/"
        },
        "id": "jvU9Mr1kNPbv",
        "outputId": "db6ce545-5c3b-4b19-d30a-f6842bf6a55a"
      },
      "execution_count": null,
      "outputs": [
        {
          "output_type": "stream",
          "name": "stdout",
          "text": [
            "[1, 2, 4, 5, 6, 7]\n"
          ]
        }
      ]
    },
    {
      "cell_type": "code",
      "source": [
        "def inserare_element_prioritati(element, coada_prioritati):\n",
        "  if len(coada_prioritati) == 0:\n",
        "    coada_prioritati.append(element)\n",
        "  else:\n",
        "    el_curent = coada_prioritati[0]\n",
        "    i = 0\n",
        "    while(el_curent[1] < element[1]):\n",
        "      i += 1\n",
        "      if i >= len(coada_prioritati):\n",
        "        break\n",
        "      el_curent = coada_prioritati[i]\n",
        "    # Am ajuns la locul potrivit elementului\n",
        "    coada_prioritati.insert(i, element)"
      ],
      "metadata": {
        "id": "2zQNW1YoMqHb"
      },
      "execution_count": null,
      "outputs": []
    },
    {
      "cell_type": "code",
      "source": [
        "lista = []\n",
        "inserare_element_prioritati((3,0), lista)\n",
        "inserare_element_prioritati((1,2), lista)\n",
        "inserare_element_prioritati((7,3), lista)\n",
        "inserare_element_prioritati((6,2), lista)\n",
        "inserare_element_prioritati((3,0), lista)\n",
        "print(lista)"
      ],
      "metadata": {
        "colab": {
          "base_uri": "https://localhost:8080/"
        },
        "id": "cIz1ua_BModa",
        "outputId": "06c3a8d9-0825-47c8-c4e7-ffb1b30e5f22"
      },
      "execution_count": null,
      "outputs": [
        {
          "output_type": "stream",
          "name": "stdout",
          "text": [
            "[(3, 0), (3, 0), (6, 2), (1, 2), (7, 3)]\n"
          ]
        }
      ]
    },
    {
      "cell_type": "markdown",
      "source": [
        "Pentru scoaterea elementului de cost minim, e suficient sa scoatem primul element."
      ],
      "metadata": {
        "id": "nqahE_H-N67a"
      }
    },
    {
      "cell_type": "code",
      "source": [
        "lista.pop(0)"
      ],
      "metadata": {
        "colab": {
          "base_uri": "https://localhost:8080/"
        },
        "id": "IcIbw_9XN_cF",
        "outputId": "97aff24c-ec09-45dd-ac58-cabc6d6b9d3d"
      },
      "execution_count": null,
      "outputs": [
        {
          "output_type": "execute_result",
          "data": {
            "text/plain": [
              "(3, 0)"
            ]
          },
          "metadata": {},
          "execution_count": 39
        }
      ]
    },
    {
      "cell_type": "markdown",
      "source": [
        "\n",
        "\n",
        "### Algoritmul Greedy de cautare\n",
        "\n",
        "#### Pasii algoritmului\n",
        "\n"
      ],
      "metadata": {
        "id": "IjlYSOy3c3WP"
      }
    },
    {
      "cell_type": "markdown",
      "source": [
        "Se considera doua liste: OPEN / frontiera (cu nodurile descoperite care inca nu au fost expandate) si CLOSED / explorate (cu nodurile descoperite si expandate).\n",
        "\n",
        "1. In lista open se pune la inceput doar nodul de pornire.\n",
        "\n",
        "2. Initial lista closed e vida.\n",
        "\n",
        "3. cat timp lista open nu e vida se executa repetitiv pasii urmatori:\n",
        " \n",
        "  a. se extrage primul nod, n, din lista open si se pune in closed\n",
        " \n",
        "  b. daca nodul n este nodul scop, oprim cautarea si afisam drumul de la nodul-start pana la n\n",
        " \n",
        "  c. extindem nodul n, obtinand succesorii lui in graf. Nu se vor lua in considerare succesorii care se afla in nodurile explorate. Toti succesorii il au ca parinte pe n, pe care il trec in arborele solutiei. Toti succesorii care nu se afla deja in open sau closed sunt inserati in lista open astfel incat fie in continuare ordonata dupa g.\n"
      ],
      "metadata": {
        "id": "B3VQb9L3EO52"
      }
    },
    {
      "cell_type": "markdown",
      "source": [
        "### Algoritmul A* \n",
        "\n"
      ],
      "metadata": {
        "id": "U4-ptq7F-1Om"
      }
    },
    {
      "cell_type": "markdown",
      "source": [
        "Se considera doua liste: OPEN / frontiera (cu nodurile descoperite care inca nu au fost expandate) si CLOSED / explorate (cu nodurile descoperite si expandate).\n",
        "\n",
        "1. In lista open se pune la inceput doar nodul de pornire.\n",
        "\n",
        "2. Initial lista closed e vida.\n",
        "\n",
        "3. cat timp lista open nu e vida se executa repetitiv pasii urmatori:\n",
        " \n",
        "  a. se extrage primul nod, n, din lista open si se pune in closed\n",
        " \n",
        "  b. daca nodul n este nodul scop, oprim cautarea si afisam drumul de la nodul-start pana la n\n",
        " \n",
        "  c. extindem nodul n, obtinand succesorii lui in graf. Nu se vor lua in considerare succesorii care se afla in nodurile explorate. Toti succesorii il au ca parinte pe n, pe care il trec in arborele solutiei. Toti succesorii care nu se afla deja in open sau closed sunt inserati in lista open astfel incat fie in continuare ordonata dupa f. Daca sunt doua noduri cu acelasi f, se aseaza inainte nodul cu g-ul mai mare.\n",
        " \n",
        "  d. Pentru succesorii care sunt deja in open sau closed, in cazul in care pentru drumul care trece prin n, s-a obtinut un f mai mic, li se schimba parintele la n, si li se actualizeaza f-ul, iar nodurile din open sunt repozitionate in lista astfel incat sa ramana ordonata crescator dupa f.\n",
        " \n",
        "  e. Pentru nodurile din closed (care au fost deja expandate) ar trebui refacut calculul pentru nodurile succesoare lor, prin urmare, cel mai simplu este sa le readaugam in open)."
      ],
      "metadata": {
        "id": "9htjkupiJnBd"
      }
    },
    {
      "cell_type": "markdown",
      "source": [
        "# Exercitii\n",
        "\n",
        "### Tema 1p"
      ],
      "metadata": {
        "id": "Krr7VzQmc9nP"
      }
    },
    {
      "cell_type": "markdown",
      "source": [
        "1. Scrieti o functie care afiseaza drumul de la un nod frunza n pana la radacina arborelui.\n",
        "\n",
        "Exemplu pentru arborele binar de mai sus:\n",
        "\n",
        "\n",
        "\n",
        "```\n",
        "afis_drum(arbore_parinti, 7)\n",
        "\n",
        "7 5 3 1\n",
        "```\n",
        "\n",
        "\n"
      ],
      "metadata": {
        "id": "UnAkBbGqdCjW"
      }
    },
    {
      "cell_type": "code",
      "source": [
        "arbore_parinti = {\n",
        "    1: None,\n",
        "    2: 1,\n",
        "    3: 1,\n",
        "    4: 2,\n",
        "    5: 3,\n",
        "    6: 3,\n",
        "    7: 5,\n",
        "    8: 5,\n",
        "}"
      ],
      "metadata": {
        "id": "o1jqFPbYknn2"
      },
      "execution_count": null,
      "outputs": []
    },
    {
      "cell_type": "code",
      "source": [
        "def afis_drum(arbore_parinti, frunza):\n",
        "  k=frunza\n",
        "  while k is not None:\n",
        "    print(k)\n",
        "    k=arbore_parinti[k]"
      ],
      "metadata": {
        "id": "MMJuUgXX2hlo"
      },
      "execution_count": null,
      "outputs": []
    },
    {
      "cell_type": "code",
      "source": [
        "afis_drum(arbore_parinti, 7)"
      ],
      "metadata": {
        "id": "rXW5AkLvdBh2",
        "colab": {
          "base_uri": "https://localhost:8080/"
        },
        "outputId": "984fdf09-3121-4338-c53d-ba4c9f20746d"
      },
      "execution_count": null,
      "outputs": [
        {
          "output_type": "stream",
          "name": "stdout",
          "text": [
            "7\n",
            "5\n",
            "3\n",
            "1\n"
          ]
        }
      ]
    },
    {
      "cell_type": "markdown",
      "source": [
        "2. Modificati functia de mai sus astfel incat sa afiseze drumul incepand de la radacina.\n",
        "\n",
        "Hint: varianta folosind stiva\n",
        "\n",
        "\n",
        "```\n",
        "afis_drum(arbore_parinti, 7)\n",
        "\n",
        "1 3 5 7\n",
        "```"
      ],
      "metadata": {
        "id": "GpD6OW187dpG"
      }
    },
    {
      "cell_type": "code",
      "source": [
        "arbore_parinti = {\n",
        "    1: None,\n",
        "    2: 1,\n",
        "    3: 1,\n",
        "    4: 2,\n",
        "    5: 3,\n",
        "    6: 3,\n",
        "    7: 5,\n",
        "    8: 5,\n",
        "}"
      ],
      "metadata": {
        "id": "6imoKDPqliL1"
      },
      "execution_count": null,
      "outputs": []
    },
    {
      "cell_type": "code",
      "source": [
        "def afis_drum_invers(arbore_parinti, frunza):\n",
        "  k=frunza\n",
        "  lista = []\n",
        "  while k is not None:\n",
        "    lista.append(k)\n",
        "    k=arbore_parinti[k]\n",
        "  while len(lista):\n",
        "    print(lista[len(lista)-1])\n",
        "    lista.pop()"
      ],
      "metadata": {
        "id": "2jydwZEv31oJ"
      },
      "execution_count": null,
      "outputs": []
    },
    {
      "cell_type": "code",
      "source": [
        "afis_drum_invers(arbore_parinti, 7)"
      ],
      "metadata": {
        "colab": {
          "base_uri": "https://localhost:8080/"
        },
        "id": "gq2uF-cslH9V",
        "outputId": "c0308ced-c208-4112-f9cd-c45ae3beada3"
      },
      "execution_count": null,
      "outputs": [
        {
          "output_type": "stream",
          "name": "stdout",
          "text": [
            "1\n",
            "3\n",
            "5\n",
            "7\n"
          ]
        }
      ]
    },
    {
      "cell_type": "markdown",
      "source": [
        "3. Calculati adancimea maxima a unui arbore dat.\n",
        "\n",
        "Hint: puteti compara toate drumurile din orice nod catre radacina.\n",
        "\n",
        "Pentru a obtine toate cheile unui dictionar `arbore` **putem** folosi `arbore.keys()`"
      ],
      "metadata": {
        "id": "080FyvZmBqem"
      }
    },
    {
      "cell_type": "code",
      "source": [
        "arbore_parinti.keys()"
      ],
      "metadata": {
        "colab": {
          "base_uri": "https://localhost:8080/"
        },
        "id": "V-eSSB7E7Rmh",
        "outputId": "f3837cd0-dfe3-4f8b-c1dc-d4a07430119a"
      },
      "execution_count": null,
      "outputs": [
        {
          "output_type": "execute_result",
          "data": {
            "text/plain": [
              "dict_keys([1, 2, 3, 4, 5, 6, 7, 8])"
            ]
          },
          "metadata": {},
          "execution_count": 56
        }
      ]
    },
    {
      "cell_type": "code",
      "source": [
        "for n in arbore_parinti.keys():\n",
        "  print(n)"
      ],
      "metadata": {
        "colab": {
          "base_uri": "https://localhost:8080/"
        },
        "id": "V9sdL0MC7Yyz",
        "outputId": "91ed5fbc-aced-45e3-c6ee-be2383bfcb88"
      },
      "execution_count": null,
      "outputs": [
        {
          "output_type": "stream",
          "name": "stdout",
          "text": [
            "1\n",
            "2\n",
            "3\n",
            "4\n",
            "5\n",
            "6\n",
            "7\n",
            "8\n"
          ]
        }
      ]
    },
    {
      "cell_type": "code",
      "source": [
        "print(list(arbore_parinti.keys()))"
      ],
      "metadata": {
        "colab": {
          "base_uri": "https://localhost:8080/"
        },
        "id": "qMtlWXE27eHP",
        "outputId": "65dd2562-487a-409f-ce77-d4cc6cfd8bf8"
      },
      "execution_count": null,
      "outputs": [
        {
          "output_type": "stream",
          "name": "stdout",
          "text": [
            "[1, 2, 3, 4, 5, 6, 7, 8]\n"
          ]
        }
      ]
    },
    {
      "cell_type": "code",
      "source": [
        "def adancime_maxima(arbore_parinti):\n",
        "  max=0\n",
        "  k=0\n",
        "  for i in arbore_parinti.keys():\n",
        "    while i is not None:\n",
        "      i=arbore_parinti[i]\n",
        "      k=k+1\n",
        "    if k>max:\n",
        "      max=k\n",
        "    k=0\n",
        "  return max"
      ],
      "metadata": {
        "id": "cLovRKWU9TkD"
      },
      "execution_count": null,
      "outputs": []
    },
    {
      "cell_type": "code",
      "source": [
        "print(adancime_maxima(arbore_parinti))"
      ],
      "metadata": {
        "colab": {
          "base_uri": "https://localhost:8080/"
        },
        "id": "fi7JfAovqEYc",
        "outputId": "133e8e43-3ce3-4c6b-a1d8-ea589fd747d1"
      },
      "execution_count": null,
      "outputs": [
        {
          "output_type": "stream",
          "name": "stdout",
          "text": [
            "4\n"
          ]
        }
      ]
    },
    {
      "cell_type": "markdown",
      "source": [
        "4. Calculati suma costurilor de la o frunza data la radacina (insumand costurile fiecarui nod de pe drum). Testati functia pe arborele de costuri definit mai devreme."
      ],
      "metadata": {
        "id": "lHLs8RmB7lnK"
      }
    },
    {
      "cell_type": "code",
      "source": [
        "arbore_parinti = {\n",
        "    1: None,\n",
        "    2: 1,\n",
        "    3: 1,\n",
        "    4: 2,\n",
        "    5: 3,\n",
        "    6: 3,\n",
        "    7: 5,\n",
        "    8: 5,\n",
        "}\n",
        "arbore_costuri = {\n",
        "    1: 6,\n",
        "    2: 3,\n",
        "    3: 4,\n",
        "    4: 3,\n",
        "    5: 3,\n",
        "    6: 2,\n",
        "    7: 1,\n",
        "    8: 0\n",
        "}"
      ],
      "metadata": {
        "id": "qXQPdLxRrKkV"
      },
      "execution_count": null,
      "outputs": []
    },
    {
      "cell_type": "code",
      "source": [
        "def suma_cost_drum(arbore_parinti, arbore_costuri, frunza):\n",
        "  cost=0\n",
        "  while frunza is not None:\n",
        "    cost=cost+arbore_costuri[frunza]\n",
        "    frunza=arbore_parinti[frunza]\n",
        "  return cost"
      ],
      "metadata": {
        "id": "VGcSilq3RfVo"
      },
      "execution_count": null,
      "outputs": []
    },
    {
      "cell_type": "code",
      "source": [
        "suma_cost_drum(arbore_parinti, arbore_costuri, 5)"
      ],
      "metadata": {
        "colab": {
          "base_uri": "https://localhost:8080/"
        },
        "id": "67d_bcRFrSdE",
        "outputId": "a45d7a50-1354-48d0-f779-6cc97c11e122"
      },
      "execution_count": null,
      "outputs": [
        {
          "output_type": "execute_result",
          "data": {
            "text/plain": [
              "13"
            ]
          },
          "metadata": {},
          "execution_count": 66
        }
      ]
    },
    {
      "cell_type": "markdown",
      "source": [
        "Se da problema de mai jos cu graful orientat corespunzator problemei, cu costurile asociate fiecarui arc (pe arc), si in plus cu valorile unei euristici asociate fiecarui nod (in chenare). Implementati solutii de cautare informata pe baza unui graf reprezentat printr-o matrice de adiacenta/costuri si un dictionar de valori ale functiei euristice, si testati-o pe graful de mai jos."
      ],
      "metadata": {
        "id": "0HCoKJhn7_TU"
      }
    },
    {
      "cell_type": "markdown",
      "source": [
        "![exemplu_a_star.png](data:image/png;base64,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)"
      ],
      "metadata": {
        "id": "lcy9Nxx_DDws"
      }
    },
    {
      "cell_type": "code",
      "source": [
        "mo = [\n",
        "  [0, 3, 9, 7, 0, 0, 0, 0, 0, 0],   \n",
        "  [0, 0, 0, 0, 4, 100, 0, 0, 0, 0],\n",
        "  [0, 0, 0, 0, 10, 0, 5, 0, 0, 0],\n",
        "  [0, 0, 0, 0, 0, 0, 0, 4, 0 ,0],\n",
        "  [0, 0, 0, 0, 0, 10, 0, 0, 0, 0],\n",
        "  [0, 0, 0, 0, 0, 0, 0, 0, 0, 0],\n",
        "  [0, 0, 0, 1, 7, 0, 0, 0, 0, 0],\n",
        "  [0, 0, 0, 0, 0, 0, 0, 0, 2, 1],\n",
        "  [0, 0, 0, 0, 0, 0, 0, 4, 0 ,0],\n",
        "  [0, 0, 0, 0, 0, 0, 0, 4, 0 ,0],\n",
        "]\n",
        "noduri = ['a', 'b', 'c', 'd', 'e', 'f', 'g', 'i', 'j', 'k']"
      ],
      "metadata": {
        "id": "hgOQP-3ODeBl"
      },
      "execution_count": null,
      "outputs": []
    },
    {
      "cell_type": "code",
      "source": [
        "val_euristici = {\n",
        "    'a': None,\n",
        "    'b': 10,\n",
        "    'c': 3,\n",
        "    'd': 7,\n",
        "    'e': 8,\n",
        "    'f': 0,\n",
        "    'g': 14,\n",
        "    'i': 3,\n",
        "    'j': 1,\n",
        "    'k': 2\n",
        "}"
      ],
      "metadata": {
        "id": "d0y8KcoZDi0_"
      },
      "execution_count": null,
      "outputs": []
    },
    {
      "cell_type": "markdown",
      "source": [
        "5. Implementati cautarea greedy pentru graful de mai sus definit printr-o matrice de adiacenta si un dictionar de costuri euristice pentru fiecare nod."
      ],
      "metadata": {
        "id": "lPWdR7VPCJF4"
      }
    },
    {
      "cell_type": "code",
      "source": [
        "def inserare_element_prioritati(element, coada_prioritati):\n",
        "  if len(coada_prioritati) == 0:\n",
        "    coada_prioritati.append(element)\n",
        "  else:\n",
        "    el_curent = coada_prioritati[0]\n",
        "    i = 0\n",
        "    while(el_curent[1] < element[1]):\n",
        "      i += 1\n",
        "      if i >= len(coada_prioritati):\n",
        "        break\n",
        "      el_curent = coada_prioritati[i]\n",
        "    # Am ajuns la locul potrivit elementului\n",
        "    coada_prioritati.insert(i, element)\n",
        "\n",
        "def check_frontiera(n, frontiera):\n",
        "    for i in frontiera:\n",
        "        if i[0]==n:\n",
        "            return False\n",
        "    return True\n",
        "\n",
        "def greedy(g, nod_start, nod_scop):\n",
        "    frontiera = [(nod_start, g.val_euristici[nod_start])]\n",
        "    parcurse = set()\n",
        "    solutii = 0  # retinem cate solutii am gasit\n",
        "    nr_sol = len(nod_scop)  # retinem cate solutii trebuie sa gasim\n",
        "    print(\"Frontiera: \", frontiera)\n",
        "    print(\"Parcurse: \", parcurse)\n",
        "    while len(frontiera):\n",
        "        n = frontiera.pop(0)  # eliminam nodul curent din frontiera - coada\n",
        "        n_index = g.noduri.index(n[0])\n",
        "        parcurse.add(n[0])\n",
        "        print(\"Nod: \", n[0])\n",
        "        if n[0] in nod_scop:\n",
        "            solutii = solutii + 1\n",
        "            if solutii == nr_sol:\n",
        "                break  # daca am gasit numarul necesar de solutii, oprim ciclarea\n",
        "\n",
        "        for i in range(len(g.m)):\n",
        "            # verificam daca exista arc si daca nodul nu a mai fost parcurs\n",
        "            if g.m[n_index][i] != 0 and g.noduri[i] not in parcurse and check_frontiera(g.noduri[i], frontiera):\n",
        "                inserare_element_prioritati((g.noduri[i], g.val_euristici[g.noduri[i]]), frontiera)\n",
        "        print(\"Frontiera: \", frontiera)\n",
        "        print(\"Parcurse: \", parcurse)\n",
        "\n",
        "\n",
        "# Date de test\n",
        "class Graf:\n",
        "    m = [\n",
        "        [0, 3, 9, 7, 0, 0, 0, 0, 0, 0],\n",
        "        [0, 0, 0, 0, 4, 100, 0, 0, 0, 0],\n",
        "        [0, 0, 0, 0, 10, 0, 5, 0, 0, 0],\n",
        "        [0, 0, 0, 0, 0, 0, 0, 4, 0, 0],\n",
        "        [0, 0, 0, 0, 0, 10, 0, 0, 0, 0],\n",
        "        [0, 0, 0, 0, 0, 0, 0, 0, 0, 0],\n",
        "        [0, 0, 0, 1, 7, 0, 0, 0, 0, 0],\n",
        "        [0, 0, 0, 0, 0, 0, 0, 0, 2, 1],\n",
        "        [0, 0, 0, 0, 0, 0, 0, 4, 0, 0],\n",
        "        [0, 0, 0, 0, 0, 0, 0, 4, 0, 0],\n",
        "    ]\n",
        "    noduri = ['a', 'b', 'c', 'd', 'e', 'f', 'g', 'i', 'j', 'k']\n",
        "    val_euristici = {\n",
        "        'a': None,\n",
        "        'b': 10,\n",
        "        'c': 3,\n",
        "        'd': 7,\n",
        "        'e': 8,\n",
        "        'f': 0,\n",
        "        'g': 14,\n",
        "        'i': 3,\n",
        "        'j': 1,\n",
        "        'k': 2\n",
        "    }\n",
        "\n",
        "\n",
        "g = Graf()\n",
        "nod_start = 'a'\n",
        "nod_scop = ['f']\n",
        "\n",
        "# Apel\n",
        "greedy(g, nod_start, nod_scop)"
      ],
      "metadata": {
        "id": "rYC1cTIPCLPo",
        "colab": {
          "base_uri": "https://localhost:8080/"
        },
        "outputId": "87889044-0e0e-42d7-bd6b-731f3df1820f"
      },
      "execution_count": null,
      "outputs": [
        {
          "output_type": "stream",
          "name": "stdout",
          "text": [
            "Frontiera:  [('a', None)]\n",
            "Parcurse:  set()\n",
            "Nod:  a\n",
            "Frontiera:  [('c', 3), ('d', 7), ('b', 10)]\n",
            "Parcurse:  {'a'}\n",
            "Nod:  c\n",
            "Frontiera:  [('d', 7), ('e', 8), ('b', 10), ('g', 14)]\n",
            "Parcurse:  {'c', 'a'}\n",
            "Nod:  d\n",
            "Frontiera:  [('i', 3), ('e', 8), ('b', 10), ('g', 14)]\n",
            "Parcurse:  {'c', 'a', 'd'}\n",
            "Nod:  i\n",
            "Frontiera:  [('j', 1), ('k', 2), ('e', 8), ('b', 10), ('g', 14)]\n",
            "Parcurse:  {'c', 'a', 'i', 'd'}\n",
            "Nod:  j\n",
            "Frontiera:  [('k', 2), ('e', 8), ('b', 10), ('g', 14)]\n",
            "Parcurse:  {'c', 'a', 'i', 'j', 'd'}\n",
            "Nod:  k\n",
            "Frontiera:  [('e', 8), ('b', 10), ('g', 14)]\n",
            "Parcurse:  {'c', 'a', 'i', 'j', 'd', 'k'}\n",
            "Nod:  e\n",
            "Frontiera:  [('f', 0), ('b', 10), ('g', 14)]\n",
            "Parcurse:  {'c', 'a', 'i', 'j', 'd', 'e', 'k'}\n",
            "Nod:  f\n"
          ]
        }
      ]
    },
    {
      "cell_type": "markdown",
      "source": [
        "6. Implementati cautarea A* pentru graful de mai sus definit printr-o matrice de adiacenta si un dictionar de costuri euristice pentru fiecare nod."
      ],
      "metadata": {
        "id": "RstZG-0JCLan"
      }
    },
    {
      "cell_type": "code",
      "source": [
        "def inserare_element_prioritati(element, coada_prioritati):\n",
        "    if len(coada_prioritati) == 0:\n",
        "        coada_prioritati.append(element)\n",
        "    else:\n",
        "        el_curent = coada_prioritati[0]\n",
        "        i = 0\n",
        "        while el_curent[1] < element[1]:\n",
        "            i += 1\n",
        "            if i >= len(coada_prioritati):\n",
        "                break\n",
        "            el_curent = coada_prioritati[i]\n",
        "        # Am ajuns la locul potrivit elementului\n",
        "        coada_prioritati.insert(i, element)\n",
        "\n",
        "def suma_cost_drum(start, end, arbore, m, noduri):\n",
        "    s = noduri.index(start)\n",
        "    e = noduri.index(end)\n",
        "    cost = m[s][e]\n",
        "    if arbore[start][1] != 0:\n",
        "        cost = cost + arbore[start][1]\n",
        "    return cost\n",
        "\n",
        "def check_frontiera(n, frontiera):\n",
        "    for i in frontiera:\n",
        "        if i[0]==n:\n",
        "            return False\n",
        "    return True\n",
        "\n",
        "def astar(g, nod_start, nod_scop):\n",
        "    frontiera = [(nod_start, g.val_euristici[nod_start])]\n",
        "    g.arbore[nod_start] = [None, 0]\n",
        "    parcurse = set()\n",
        "    solutii = 0  # retinem cate solutii am gasit\n",
        "    nr_sol = len(nod_scop)  # retinem cate solutii trebuie sa gasim\n",
        "    print(\"Frontiera: \", frontiera)\n",
        "    print(\"Parcurse: \", parcurse)\n",
        "    print()\n",
        "    while len(frontiera):\n",
        "        n = frontiera.pop(0)  # eliminam nodul curent din frontiera - coada\n",
        "        n_index = g.noduri.index(n[0])\n",
        "        parcurse.add(n[0])\n",
        "        print(\"Nod curent: \", n[0])\n",
        "        if n[0] in nod_scop:\n",
        "            solutii = solutii + 1\n",
        "            if solutii == nr_sol:\n",
        "                break  # daca am gasit numarul necesar de solutii, oprim ciclarea\n",
        "\n",
        "        for i in range(len(g.m)):\n",
        "            # verificam daca exista arc si daca nodul nu a mai fost parcurs\n",
        "            if g.m[n_index][i] != 0 and g.noduri[i] not in parcurse and check_frontiera(g.noduri[i], frontiera):\n",
        "                g.arbore[g.noduri[i]] = [n[0], 0]\n",
        "                g.arbore[g.noduri[i]][1] = suma_cost_drum(n[0], g.noduri[i], g.arbore, g.m, g.noduri)\n",
        "                inserare_element_prioritati((g.noduri[i], g.val_euristici[g.noduri[i]] + g.arbore[g.noduri[i]][1]),\n",
        "                                            frontiera)\n",
        "        print(\"Arbore generat: \", g.arbore)\n",
        "        print(\"Frontiera: \", frontiera)\n",
        "        print(\"Parcurse: \", parcurse)\n",
        "        print()\n",
        "\n",
        "\n",
        "# Date de test\n",
        "class Graf:\n",
        "    m = [\n",
        "        [0, 3, 9, 7, 0, 0, 0, 0, 0, 0],\n",
        "        [0, 0, 0, 0, 4, 100, 0, 0, 0, 0],\n",
        "        [0, 0, 0, 0, 10, 0, 5, 0, 0, 0],\n",
        "        [0, 0, 0, 0, 0, 0, 0, 4, 0, 0],\n",
        "        [0, 0, 0, 0, 0, 10, 0, 0, 0, 0],\n",
        "        [0, 0, 0, 0, 0, 0, 0, 0, 0, 0],\n",
        "        [0, 0, 0, 1, 7, 0, 0, 0, 0, 0],\n",
        "        [0, 0, 0, 0, 0, 0, 0, 0, 2, 1],\n",
        "        [0, 0, 0, 0, 0, 0, 0, 4, 0, 0],\n",
        "        [0, 0, 0, 0, 0, 0, 0, 4, 0, 0],\n",
        "    ]\n",
        "    noduri = ['a', 'b', 'c', 'd', 'e', 'f', 'g', 'i', 'j', 'k']\n",
        "    val_euristici = {\n",
        "        'a': None,\n",
        "        'b': 10,\n",
        "        'c': 3,\n",
        "        'd': 7,\n",
        "        'e': 8,\n",
        "        'f': 0,\n",
        "        'g': 14,\n",
        "        'i': 3,\n",
        "        'j': 1,\n",
        "        'k': 2\n",
        "    }\n",
        "    arbore = {}\n",
        "\n",
        "\n",
        "g = Graf()\n",
        "nod_start = 'a'\n",
        "nod_scop = ['f']\n",
        "\n",
        "# Apel\n",
        "astar(g, nod_start, nod_scop)\n"
      ],
      "metadata": {
        "id": "Uk6JklPQBy6T",
        "colab": {
          "base_uri": "https://localhost:8080/"
        },
        "outputId": "42b3e6c6-3d6d-4141-d140-ce483659de16"
      },
      "execution_count": null,
      "outputs": [
        {
          "output_type": "stream",
          "name": "stdout",
          "text": [
            "Frontiera:  [('a', None)]\n",
            "Parcurse:  set()\n",
            "\n",
            "Nod curent:  a\n",
            "Arbore generat:  {'a': [None, 0], 'b': ['a', 3], 'c': ['a', 9], 'd': ['a', 7]}\n",
            "Frontiera:  [('c', 12), ('b', 13), ('d', 14)]\n",
            "Parcurse:  {'a'}\n",
            "\n",
            "Nod curent:  c\n",
            "Arbore generat:  {'a': [None, 0], 'b': ['a', 3], 'c': ['a', 9], 'd': ['a', 7], 'e': ['c', 19], 'g': ['c', 14]}\n",
            "Frontiera:  [('b', 13), ('d', 14), ('e', 27), ('g', 28)]\n",
            "Parcurse:  {'c', 'a'}\n",
            "\n",
            "Nod curent:  b\n",
            "Arbore generat:  {'a': [None, 0], 'b': ['a', 3], 'c': ['a', 9], 'd': ['a', 7], 'e': ['c', 19], 'g': ['c', 14], 'f': ['b', 103]}\n",
            "Frontiera:  [('d', 14), ('e', 27), ('g', 28), ('f', 103)]\n",
            "Parcurse:  {'b', 'c', 'a'}\n",
            "\n",
            "Nod curent:  d\n",
            "Arbore generat:  {'a': [None, 0], 'b': ['a', 3], 'c': ['a', 9], 'd': ['a', 7], 'e': ['c', 19], 'g': ['c', 14], 'f': ['b', 103], 'i': ['d', 11]}\n",
            "Frontiera:  [('i', 14), ('e', 27), ('g', 28), ('f', 103)]\n",
            "Parcurse:  {'b', 'c', 'a', 'd'}\n",
            "\n",
            "Nod curent:  i\n",
            "Arbore generat:  {'a': [None, 0], 'b': ['a', 3], 'c': ['a', 9], 'd': ['a', 7], 'e': ['c', 19], 'g': ['c', 14], 'f': ['b', 103], 'i': ['d', 11], 'j': ['i', 13], 'k': ['i', 12]}\n",
            "Frontiera:  [('k', 14), ('j', 14), ('e', 27), ('g', 28), ('f', 103)]\n",
            "Parcurse:  {'d', 'b', 'c', 'a', 'i'}\n",
            "\n",
            "Nod curent:  k\n",
            "Arbore generat:  {'a': [None, 0], 'b': ['a', 3], 'c': ['a', 9], 'd': ['a', 7], 'e': ['c', 19], 'g': ['c', 14], 'f': ['b', 103], 'i': ['d', 11], 'j': ['i', 13], 'k': ['i', 12]}\n",
            "Frontiera:  [('j', 14), ('e', 27), ('g', 28), ('f', 103)]\n",
            "Parcurse:  {'k', 'd', 'b', 'c', 'a', 'i'}\n",
            "\n",
            "Nod curent:  j\n",
            "Arbore generat:  {'a': [None, 0], 'b': ['a', 3], 'c': ['a', 9], 'd': ['a', 7], 'e': ['c', 19], 'g': ['c', 14], 'f': ['b', 103], 'i': ['d', 11], 'j': ['i', 13], 'k': ['i', 12]}\n",
            "Frontiera:  [('e', 27), ('g', 28), ('f', 103)]\n",
            "Parcurse:  {'k', 'd', 'b', 'j', 'c', 'a', 'i'}\n",
            "\n",
            "Nod curent:  e\n",
            "Arbore generat:  {'a': [None, 0], 'b': ['a', 3], 'c': ['a', 9], 'd': ['a', 7], 'e': ['c', 19], 'g': ['c', 14], 'f': ['b', 103], 'i': ['d', 11], 'j': ['i', 13], 'k': ['i', 12]}\n",
            "Frontiera:  [('g', 28), ('f', 103)]\n",
            "Parcurse:  {'k', 'd', 'b', 'e', 'j', 'c', 'a', 'i'}\n",
            "\n",
            "Nod curent:  g\n",
            "Arbore generat:  {'a': [None, 0], 'b': ['a', 3], 'c': ['a', 9], 'd': ['a', 7], 'e': ['c', 19], 'g': ['c', 14], 'f': ['b', 103], 'i': ['d', 11], 'j': ['i', 13], 'k': ['i', 12]}\n",
            "Frontiera:  [('f', 103)]\n",
            "Parcurse:  {'k', 'd', 'b', 'e', 'j', 'c', 'a', 'i', 'g'}\n",
            "\n",
            "Nod curent:  f\n"
          ]
        }
      ]
    },
    {
      "cell_type": "markdown",
      "source": [
        "# Tema-proiect (3p) (deadline 3 sapt)"
      ],
      "metadata": {
        "id": "B64ScS6JB9OP"
      }
    },
    {
      "cell_type": "markdown",
      "source": [
        "Rezolvati una dintre urmatoarele probleme folosind un algoritm de cautare neinformata si un algoritm de cautare informata (la alegere):\n",
        "\n",
        "- Problema 8-puzzle\n",
        "- Problema canibalilor si misionarilor\n",
        "- Problema depasarii Arad-Bucuresti\n",
        "\n",
        "\n",
        "Pasi rezolvare:\n",
        "\n",
        "\n",
        "1.   Definiti graful de stari.\n",
        "  \n",
        "  a. Ce informatii trebuie retinute in fiecare nod?\n",
        "  \n",
        "  b. Cum se definesc arcele intre noduri / tranzitiile? Care sunt actiunile posibile?\n",
        "  \n",
        "  c. Care este starea initiala si care este starea finala?\n",
        "  \n",
        "  d. Exista costuri asociate arcelor? (altfel, costul fiecarui arc va fi 1)\n",
        "\n",
        "\n",
        "...mai multe detalii in documentul PDF.\n",
        "\n",
        "\n"
      ],
      "metadata": {
        "id": "tI7xk0JgB_hY"
      }
    },
    {
      "cell_type": "code",
      "source": [
        "import numpy as np\n",
        "\n",
        "# this function makes a  priority_queue sorted by the second number from element\n",
        "# element is composed by (node_name, heuristic, cost)\n",
        "# value(node) = cost(node) + heuristic(node)\n",
        "def insert_into_priority_queue(element, priority_queue):\n",
        "    if len(priority_queue) == 0:\n",
        "        priority_queue.append(element)\n",
        "    else:\n",
        "        current_element = priority_queue[0]\n",
        "        i = 0\n",
        "        while current_element[1]+current_element[2] <= element[1]+element[2]:\n",
        "            if current_element[1]+current_element[2] == element[1]+element[2] and element[2] > current_element[2]:\n",
        "                break\n",
        "            i = i + 1\n",
        "            if i >= len(priority_queue):\n",
        "                break\n",
        "            current_element = priority_queue[i]\n",
        "        priority_queue.insert(i, element)\n",
        "\n",
        "# this function verify if node is in open\n",
        "# node is composed by (node_name, value)\n",
        "def is_in_open(node, open):\n",
        "    for i in open:\n",
        "        if i[0] == node:\n",
        "            return True\n",
        "    return False\n",
        "\n",
        "# this function shows the road from the root of the three to the node\n",
        "def show_road(tree, node):\n",
        "    print(\"     The road is: \")\n",
        "    list = []\n",
        "    k = node\n",
        "    # we ar using a tree of parents where the value is the parent of the key\n",
        "    # eg. tree[k][0] is the parent of k\n",
        "    while k is not None:\n",
        "        list.append(k)\n",
        "        k = tree[k]\n",
        "    no = 0\n",
        "    while len(list):\n",
        "        no += 1\n",
        "        print(no, \". \", list[len(list) - 1])\n",
        "        list.pop()\n",
        "\n",
        "class Graph:\n",
        "\n",
        "    def __init__(self, arches, heuristics, matrix_size):\n",
        "        self.nodes = []\n",
        "        for i in heuristics.keys():\n",
        "            self.nodes.append(i)\n",
        "        self.arches = arches\n",
        "        self.heuristics = heuristics\n",
        "        self.matrix = np.zeros((matrix_size, matrix_size), dtype=int)\n",
        "        self.convert_matrix()\n",
        "\n",
        "    # this function convert the list of archees to an adjacency matrix\n",
        "    def convert_matrix(self):\n",
        "        for n in self.arches:\n",
        "            i = self.nodes.index(n[0])\n",
        "            j = self.nodes.index(n[1])\n",
        "            self.matrix[i][j] = n[2]\n",
        "\n",
        "    # this function returns the cost of the road from the root of the tree to the node\n",
        "    def road_cost(self, node, tree):\n",
        "        cost = 0\n",
        "        last_node = node\n",
        "        current_node = tree[last_node]\n",
        "        while current_node is not None:\n",
        "            cost = cost + self.matrix[self.nodes.index(current_node)][self.nodes.index(last_node)]\n",
        "            last_node = current_node\n",
        "            current_node = tree[last_node]\n",
        "        return cost\n",
        "\n",
        "    def ucs(self, start_node, target_nodes):\n",
        "        no_steps=0\n",
        "        print(\"--- Uniform Cost Search algorthm --- uninformed search\")\n",
        "        tree = {}   # represents the generated tree of the graph of states\n",
        "        open = [(start_node, 0)]    # represents the expanded nodes of the tree\n",
        "        # open is a list of tuples like (node_name, cost)\n",
        "        tree[start_node] = None    # initializing tree with the root\n",
        "        close = set()   # represents visited nodes\n",
        "        solutions = 0   # represents no of solutions found\n",
        "        no_sol = len(target_nodes)  # represents no of solutions needed\n",
        "        \"\"\"\n",
        "        # we can print open and close at each step to see how the program works\n",
        "        print(\"Open: \", open)\n",
        "        print(\"Close: \", close)\n",
        "        print()\n",
        "        \"\"\"\n",
        "        while len(open):\n",
        "            no_steps+=1\n",
        "            current_node = open.pop(0)  # eliminate the current node from open\n",
        "            node_index = self.nodes.index(current_node[0])  # the index of the current node\n",
        "            close.add(current_node[0])  # adding the current node to close\n",
        "            #print(\"Current node: \", current_node[0])\n",
        "            # we can print current node at each step to see better how the program works\n",
        "            if current_node[0] in target_nodes: # we found a solution\n",
        "                solutions = solutions + 1\n",
        "                show_road(tree, current_node[0])    # show the rood to the solution\n",
        "                print(\"Cost of the road: \", current_node[2])    # show the cost of the solution\n",
        "                if solutions == no_sol:\n",
        "                    break  # if we found all the solution, we stop\n",
        "\n",
        "            for i in range(len(self.matrix)):\n",
        "                # verifying if from the current node to the new one (i) is an archer\n",
        "                if self.matrix[node_index][i] != 0:\n",
        "                    # verify if the node is in open or close\n",
        "                    if self.nodes[i] in close or is_in_open(self.nodes[i], open):\n",
        "                        # retain the cost, and the father of node i before any change\n",
        "                        prev_cost = self.road_cost(self.nodes[i], tree)\n",
        "                        prev_father = tree[self.nodes[i]]\n",
        "                        # change the nod i how was already visited\n",
        "                        tree[self.nodes[i]] = current_node[0]\n",
        "                        # if the change is good (the road is cheaper), we keep it\n",
        "                        if self.road_cost(self.nodes[i], tree) < prev_cost:\n",
        "                            insert_into_priority_queue(\n",
        "                                (self.nodes[i], 0, self.road_cost(self.nodes[i], tree)),\n",
        "                                open)\n",
        "                            # we put back the visited neighbours of this node in open\n",
        "                            for j in range(len(self.matrix)):\n",
        "                                if self.matrix[i][j] != 0 and self.nodes[j] in close:\n",
        "                                    close.remove(self.nodes[j])\n",
        "                                    insert_into_priority_queue(\n",
        "                                        (self.nodes[j], 0,\n",
        "                                         self.road_cost(self.nodes[j], tree)),\n",
        "                                        open)\n",
        "                        # if the change is not good, we take back to the last version\n",
        "                        else:\n",
        "                            tree[self.nodes[i]]=prev_father\n",
        "                    # if the node is not in open or close, we simply add it to tree and open\n",
        "                    else:\n",
        "                        tree[self.nodes[i]] = current_node[0]\n",
        "                        insert_into_priority_queue((self.nodes[i], 0, self.road_cost(self.nodes[i], tree)), open)\n",
        "            \"\"\"\n",
        "            # we can print open and close at each step to see how the program works\n",
        "            print(\"Tree: \", tree)\n",
        "            print(\"Open: \", open)\n",
        "            print(\"Close: \", close)\n",
        "            print()\n",
        "            \"\"\"\n",
        "        print(\"No steps made by program: \", no_steps)\n",
        "        print()\n",
        "\n",
        "    def astar(self, start_node, target_nodes):\n",
        "        no_steps=0\n",
        "        print(\"--- A* algorithm --- informed search\")\n",
        "        tree = {}   # represents the generated tree of the graph of states\n",
        "        open = [(start_node, self.heuristics[start_node], 0)]  # represents the expanded nodes of the tree\n",
        "        # open is a list of tuples like (node_name, heuristic_value, cost)\n",
        "        tree[start_node] = None  # initializing tree with the root\n",
        "        close = set()   # represents visited nodes\n",
        "        solutions = 0   # represents no of solutions found\n",
        "        no_sol = len(target_nodes)  # represents no of solutions needed\n",
        "        \"\"\"\n",
        "        # we can print open and close at each step to see how the program works\n",
        "        print(\"Open: \", open)\n",
        "        print(\"Close: \", close)\n",
        "        print()\n",
        "        \"\"\"\n",
        "        while len(open):\n",
        "            no_steps+=1\n",
        "            current_node = open.pop(0)  # eliminate the current node from open\n",
        "            node_index = self.nodes.index(current_node[0])  # the index of the current node\n",
        "            close.add(current_node[0])  # adding the current node to close\n",
        "\n",
        "            # tree has a node as a key, and a list of his parent name and his cost from the root\n",
        "            #print(\"Current node: \", current_node[0])\n",
        "            # we can print current node at each step to see better how the program works\n",
        "            if current_node[0] in target_nodes: # we found a solution\n",
        "                solutions = solutions + 1\n",
        "                show_road(tree, current_node[0])    # show the rood to the solution\n",
        "                print(\"Cost of the road: \", current_node[2])    # show the cost of the solution\n",
        "                if solutions == no_sol:\n",
        "                    break  # if we found all the solution, we stop\n",
        "\n",
        "            for i in range(len(self.matrix)):\n",
        "                # verifying if from the current node to the new one (i) is an archer\n",
        "                if self.matrix[node_index][i] != 0:\n",
        "                    # verify if the node is in open or close\n",
        "                    if self.nodes[i] in close or is_in_open(self.nodes[i], open):\n",
        "                        # retain the cost, and the father of node i before any change\n",
        "                        prev_cost = self.road_cost(self.nodes[i], tree)\n",
        "                        prev_father = tree[self.nodes[i]]\n",
        "                        # change the nod i how was already visited\n",
        "                        tree[self.nodes[i]] = current_node[0]\n",
        "                        # if the change is good (the road is cheaper), we keep it\n",
        "                        if self.road_cost(self.nodes[i], tree) < prev_cost:\n",
        "                            insert_into_priority_queue(\n",
        "                                (self.nodes[i], self.heuristics[self.nodes[i]], self.road_cost(self.nodes[i], tree)),\n",
        "                                open)\n",
        "                            # we put back the visited neighbours of this node in open\n",
        "                            for j in range(len(self.matrix)):\n",
        "                                if self.matrix[i][j] != 0 and self.nodes[j] in close:\n",
        "                                    close.remove(self.nodes[j])\n",
        "                                    insert_into_priority_queue(\n",
        "                                        (self.nodes[j], self.heuristics[self.nodes[j]],\n",
        "                                         self.road_cost(self.nodes[j], tree)),\n",
        "                                        open)\n",
        "                        # if the change is not good, we take back to the last version\n",
        "                        else:\n",
        "                            tree[self.nodes[i]]=prev_father\n",
        "                    # if the node is not in open or close, we simply add it to tree and open\n",
        "                    else:\n",
        "                        tree[self.nodes[i]] = current_node[0]\n",
        "                        insert_into_priority_queue((self.nodes[i], self.heuristics[self.nodes[i]], self.road_cost(self.nodes[i], tree)),\n",
        "                                                   open)\n",
        "\n",
        "            # we can print open and close at each step to see how the program works\n",
        "            print(\"Tree: \", tree)\n",
        "            print(\"Open: \", open)\n",
        "            print(\"Close: \", close)\n",
        "            print()\n",
        "\n",
        "        print(\"No steps made by program: \", no_steps)\n",
        "        print()\n",
        "\n",
        "\n",
        "# Dates\n",
        "\n",
        "# This is the list of arches in our graph, the third value represents the cost\n",
        "arches = [('Arad', 'Zerind', 75), ('Arad', 'Sibiu', 140), ('Arad', 'Timisoara', 118),\n",
        "          ('Zerind', 'Oradea', 71),\n",
        "          ('Sibiu', 'Fagaras', 99), ('Sibiu', 'Ramnicu Valcea', 80),\n",
        "          ('Timisoara', 'Lugoj', 111),\n",
        "          ('Fagaras', 'Bucharest', 211),\n",
        "          ('Ramnicu Valcea', 'Pitesti', 97), ('Ramnicu Valcea', 'Craiova', 146),\n",
        "          ('Lugoj', 'Mehadia', 70),\n",
        "          ('Mehadia', 'Drobeta', 75),\n",
        "          ('Drobeta', 'Craiova', 120),\n",
        "          ('Craiova', 'Pitesti', 138),\n",
        "          ('Pitesti', 'Bucharest', 101),\n",
        "          ('Bucharest', 'Giurgiu', 90),\n",
        "          ('Bucharest', 'Urziceni', 85),\n",
        "          ('Urziceni', 'Vaslui', 142), ('Urziceni', 'Hirsova', 98),\n",
        "          ('Hirsova', 'Eforie', 86),\n",
        "          ('Vaslui', 'Iasi', 92),\n",
        "          ('Iasi', 'Neamt', 87)]\n",
        "\n",
        "# The heuristics for each node represents the straight distance from target_node to them\n",
        "heuristics = {\n",
        "    'Arad': 336,\n",
        "    'Bucharest': 0,\n",
        "    'Craiova': 160,\n",
        "    'Drobeta': 242,\n",
        "    'Eforie': 161,\n",
        "    'Fagaras': 178,\n",
        "    'Giurgiu': 77,\n",
        "    'Hirsova': 151,\n",
        "    'Iasi': 226,\n",
        "    'Lugoj': 244,\n",
        "    'Mehadia': 241,\n",
        "    'Neamt': 234,\n",
        "    'Oradea': 380,\n",
        "    'Pitesti': 98,\n",
        "    'Ramnicu Valcea': 193,\n",
        "    'Sibiu': 253,\n",
        "    'Timisoara': 329,\n",
        "    'Urziceni': 80,\n",
        "    'Vaslui': 199,\n",
        "    'Zerind': 374\n",
        "}\n",
        "\n",
        "# Matrix_size represents the length of the adjacency matrix\n",
        "matrix_size = len(heuristics.keys())\n",
        "\n",
        "# Creating the graph object\n",
        "graph = Graph(arches, heuristics, matrix_size)\n",
        "stat_node = 'Arad'\n",
        "target_nodes = ['Bucharest']\n",
        "\n",
        "# Call the algorithms\n",
        "graph.ucs(stat_node, target_nodes)\n",
        "graph.astar(stat_node, target_nodes)"
      ],
      "metadata": {
        "id": "W7cGnAyvQzpM",
        "colab": {
          "base_uri": "https://localhost:8080/"
        },
        "outputId": "e1bae5ba-d56d-441a-98bf-f2b6dd76ca5c"
      },
      "execution_count": null,
      "outputs": [
        {
          "output_type": "stream",
          "name": "stdout",
          "text": [
            "--- Uniform Cost Search algorthm --- uninformed search\n",
            "     The road is: \n",
            "1 .  Arad\n",
            "2 .  Sibiu\n",
            "3 .  Ramnicu Valcea\n",
            "4 .  Pitesti\n",
            "5 .  Bucharest\n",
            "Cost of the road:  418\n",
            "No steps made by program:  13\n",
            "\n",
            "--- A* algorithm --- informed search\n",
            "Tree:  {'Arad': None, 'Sibiu': 'Arad', 'Timisoara': 'Arad', 'Zerind': 'Arad'}\n",
            "Open:  [('Sibiu', 253, 140), ('Timisoara', 329, 118), ('Zerind', 374, 75)]\n",
            "Close:  {'Arad'}\n",
            "\n",
            "Tree:  {'Arad': None, 'Sibiu': 'Arad', 'Timisoara': 'Arad', 'Zerind': 'Arad', 'Fagaras': 'Sibiu', 'Ramnicu Valcea': 'Sibiu'}\n",
            "Open:  [('Ramnicu Valcea', 193, 220), ('Fagaras', 178, 239), ('Timisoara', 329, 118), ('Zerind', 374, 75)]\n",
            "Close:  {'Sibiu', 'Arad'}\n",
            "\n",
            "Tree:  {'Arad': None, 'Sibiu': 'Arad', 'Timisoara': 'Arad', 'Zerind': 'Arad', 'Fagaras': 'Sibiu', 'Ramnicu Valcea': 'Sibiu', 'Craiova': 'Ramnicu Valcea', 'Pitesti': 'Ramnicu Valcea'}\n",
            "Open:  [('Pitesti', 98, 317), ('Fagaras', 178, 239), ('Timisoara', 329, 118), ('Zerind', 374, 75), ('Craiova', 160, 366)]\n",
            "Close:  {'Ramnicu Valcea', 'Sibiu', 'Arad'}\n",
            "\n",
            "Tree:  {'Arad': None, 'Sibiu': 'Arad', 'Timisoara': 'Arad', 'Zerind': 'Arad', 'Fagaras': 'Sibiu', 'Ramnicu Valcea': 'Sibiu', 'Craiova': 'Ramnicu Valcea', 'Pitesti': 'Ramnicu Valcea', 'Bucharest': 'Pitesti'}\n",
            "Open:  [('Fagaras', 178, 239), ('Bucharest', 0, 418), ('Timisoara', 329, 118), ('Zerind', 374, 75), ('Craiova', 160, 366)]\n",
            "Close:  {'Ramnicu Valcea', 'Sibiu', 'Pitesti', 'Arad'}\n",
            "\n",
            "Tree:  {'Arad': None, 'Sibiu': 'Arad', 'Timisoara': 'Arad', 'Zerind': 'Arad', 'Fagaras': 'Sibiu', 'Ramnicu Valcea': 'Sibiu', 'Craiova': 'Ramnicu Valcea', 'Pitesti': 'Ramnicu Valcea', 'Bucharest': 'Pitesti'}\n",
            "Open:  [('Bucharest', 0, 418), ('Timisoara', 329, 118), ('Zerind', 374, 75), ('Craiova', 160, 366)]\n",
            "Close:  {'Pitesti', 'Fagaras', 'Sibiu', 'Arad', 'Ramnicu Valcea'}\n",
            "\n",
            "     The road is: \n",
            "1 .  Arad\n",
            "2 .  Sibiu\n",
            "3 .  Ramnicu Valcea\n",
            "4 .  Pitesti\n",
            "5 .  Bucharest\n",
            "Cost of the road:  418\n",
            "No steps made by program:  6\n",
            "\n"
          ]
        }
      ]
    }
  ]
}